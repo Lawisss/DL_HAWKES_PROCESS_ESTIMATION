{
 "cells": [
  {
   "attachments": {},
   "cell_type": "markdown",
   "metadata": {},
   "source": [
    "## VAE Hawkes Process Estimation - Tutorial"
   ]
  },
  {
   "cell_type": "code",
   "execution_count": 1,
   "metadata": {},
   "outputs": [],
   "source": [
    "import os\n",
    "\n",
    "import numpy as np\n",
    "import pandas as pd\n",
    "\n",
    "from dl.mlp_model import MLPTrainer\n",
    "import variables.prep_var as prep\n",
    "from hawkes.simulation import hawkes_simulations, hawkes_simulation\n",
    "from hawkes.hyperparameters import hyper_params_simulation\n",
    "from hawkes.discretisation import discretise\n",
    "from dl.linear_model import linear_model\n",
    "from tools.utils import write_csv, write_parquet, read_parquet, timer, parquet_to_csv, read_csv\n",
    "from preprocessing.dataset import split_data, create_datasets, create_data_loaders\n",
    "\n",
    "%load_ext autoreload\n",
    "%autoreload 2"
   ]
  },
  {
   "attachments": {},
   "cell_type": "markdown",
   "metadata": {},
   "source": [
    "### Preprocessing"
   ]
  },
  {
   "cell_type": "code",
   "execution_count": 2,
   "metadata": {},
   "outputs": [],
   "source": [
    "# Training/Validation/Testing dataset generation\n",
    "\n",
    "# Intensity Decay Parameter (β) = U(p = 1, q = 3)\n",
    "# Branching Ratio (η) = U(a = 0.05, b = 0.8)\n",
    "# Expected Activity (E) = 500\n",
    "# Time Horizon (T) = 100\n",
    "# Interval Length (∆) = 1\n",
    "# Number of processes = 100_000\n",
    "\n",
    "# Hawkes process hyper-parameters generation\n",
    "params, alpha, beta, mu = hyper_params_simulation(filename=\"hawkes_hyperparams.parquet\")\n",
    "\n",
    "# Hawkes processes simulations\n",
    "simulated_events_seqs = hawkes_simulations(alpha, beta, mu, filename='hawkes_simulations.parquet')\n",
    "\n",
    "# Discrétiser les processus de Hawkes\n",
    "discret_simulated_events_seqs = discretise(simulated_events_seqs, filename='binned_hawkes_simulations.parquet')"
   ]
  },
  {
   "cell_type": "code",
   "execution_count": null,
   "metadata": {},
   "outputs": [],
   "source": [
    "# Data Preparation\n",
    "\n",
    "x = read_parquet(\"binned_hawkes_simulations.parquet\")\n",
    "y = read_parquet('hawkes_hyperparams.parquet')\n",
    "\n",
    "train_x, train_y, val_x, val_y, test_x, test_y = split_data(x, y.iloc[:, [0, 2]])\n",
    "train_dataset, val_dataset, test_dataset = create_datasets(train_x, train_y, val_x, val_y, test_x, test_y)\n",
    "train_loader, val_loader, test_loader = create_data_loaders(train_dataset, val_dataset, test_dataset)"
   ]
  },
  {
   "cell_type": "code",
   "execution_count": 9,
   "metadata": {},
   "outputs": [
    {
     "name": "stderr",
     "output_type": "stream",
     "text": [
      "c:\\Users\\Nicolas Girard\\AppData\\Local\\Programs\\Python\\Python311\\Lib\\site-packages\\torchinfo\\torchinfo.py:477: UserWarning: TypedStorage is deprecated. It will be removed in the future and UntypedStorage will be the only storage class. This should only matter to you if you are using storages directly.  To access UntypedStorage directly, use tensor.untyped_storage() instead of tensor.storage()\n",
      "  action_fn=lambda data: sys.getsizeof(data.storage()),\n",
      "c:\\Users\\Nicolas Girard\\AppData\\Local\\Programs\\Python\\Python311\\Lib\\site-packages\\torch\\storage.py:665: UserWarning: TypedStorage is deprecated. It will be removed in the future and UntypedStorage will be the only storage class. This should only matter to you if you are using storages directly.  To access UntypedStorage directly, use tensor.untyped_storage() instead of tensor.storage()\n",
      "  return super().__sizeof__() + self.nbytes()\n"
     ]
    },
    {
     "name": "stdout",
     "output_type": "stream",
     "text": [
      "=======================================================================================================================================================================================================================\n",
      "Layer (type:depth-idx)                   Input Shape               Output Shape              Param #                   Param %                   Kernel Shape              Mult-Adds                 Trainable\n",
      "=======================================================================================================================================================================================================================\n",
      "MLP                                      [128, 100]                [128, 2]                  --                             --                   --                        --                        True\n",
      "├─ModuleList: 1-11                       --                        --                        (recursive)               (recursive)               --                        --                        True\n",
      "│    └─Linear: 2-1                       [128, 100]                [128, 100]                10,100                     16.61%                   --                        1,292,800                 True\n",
      "├─ReLU: 1-2                              [128, 100]                [128, 100]                --                             --                   --                        --                        --\n",
      "├─ModuleList: 1-11                       --                        --                        (recursive)               (recursive)               --                        --                        True\n",
      "│    └─Linear: 2-2                       [128, 100]                [128, 100]                10,100                     16.61%                   --                        1,292,800                 True\n",
      "├─ReLU: 1-4                              [128, 100]                [128, 100]                --                        (recursive)               --                        --                        --\n",
      "├─ModuleList: 1-11                       --                        --                        (recursive)               (recursive)               --                        --                        True\n",
      "│    └─Linear: 2-3                       [128, 100]                [128, 100]                10,100                     16.61%                   --                        1,292,800                 True\n",
      "├─ReLU: 1-6                              [128, 100]                [128, 100]                --                        (recursive)               --                        --                        --\n",
      "├─ModuleList: 1-11                       --                        --                        (recursive)               (recursive)               --                        --                        True\n",
      "│    └─Linear: 2-4                       [128, 100]                [128, 100]                10,100                     16.61%                   --                        1,292,800                 True\n",
      "├─ReLU: 1-8                              [128, 100]                [128, 100]                --                        (recursive)               --                        --                        --\n",
      "├─ModuleList: 1-11                       --                        --                        (recursive)               (recursive)               --                        --                        True\n",
      "│    └─Linear: 2-5                       [128, 100]                [128, 100]                10,100                     16.61%                   --                        1,292,800                 True\n",
      "├─ReLU: 1-10                             [128, 100]                [128, 100]                --                        (recursive)               --                        --                        --\n",
      "├─ModuleList: 1-11                       --                        --                        (recursive)               (recursive)               --                        --                        True\n",
      "│    └─Linear: 2-6                       [128, 100]                [128, 100]                10,100                     16.61%                   --                        1,292,800                 True\n",
      "├─ReLU: 1-12                             [128, 100]                [128, 100]                --                        (recursive)               --                        --                        --\n",
      "├─Linear: 1-13                           [128, 100]                [128, 2]                  202                         0.33%                   --                        25,856                    True\n",
      "=======================================================================================================================================================================================================================\n",
      "Total params: 60,802\n",
      "Trainable params: 60,802\n",
      "Non-trainable params: 0\n",
      "Total mult-adds (Units.MEGABYTES): 7.78\n",
      "=======================================================================================================================================================================================================================\n",
      "Input size (MB): 0.05\n",
      "Forward/backward pass size (MB): 0.62\n",
      "Params size (MB): 0.24\n",
      "Estimated Total Size (MB): 0.91\n",
      "=======================================================================================================================================================================================================================\n",
      "             MLP               Summary\n"
     ]
    },
    {
     "name": "stderr",
     "output_type": "stream",
     "text": [
      "Epoch 500/500 - train_loss: 0.3023, val_loss: 0.2817: 100%|\u001b[32m██████████\u001b[0m| 500/500 [1:35:33<00:00, 11.47s/it]\n"
     ]
    },
    {
     "name": "stdout",
     "output_type": "stream",
     "text": [
      "Best model loading (2023_04_29_18_32_57_MICSHPEG8Girard_best_model.pt)...\n",
      "Validation set - Estimated branching ratio (η): 0.4365, Estimated baseline intensity (µ): 2.9074\n"
     ]
    },
    {
     "ename": "TypeError",
     "evalue": "write_parquet() got an unexpected keyword argument 'folder'",
     "output_type": "error",
     "traceback": [
      "\u001b[1;31m---------------------------------------------------------------------------\u001b[0m",
      "\u001b[1;31mTypeError\u001b[0m                                 Traceback (most recent call last)",
      "Cell \u001b[1;32mIn[9], line 3\u001b[0m\n\u001b[0;32m      1\u001b[0m \u001b[39m# Trained model\u001b[39;00m\n\u001b[1;32m----> 3\u001b[0m model, train_losses, val_losses, val_y_pred, val_eta, val_mu \u001b[39m=\u001b[39m MLPTrainer()\u001b[39m.\u001b[39;49mtrain_model(train_loader, val_loader, val_x, val_y)\n\u001b[0;32m      4\u001b[0m get_ipython()\u001b[39m.\u001b[39mrun_line_magic(\u001b[39m'\u001b[39m\u001b[39mload_ext\u001b[39m\u001b[39m'\u001b[39m, \u001b[39m'\u001b[39m\u001b[39mtensorboard\u001b[39m\u001b[39m'\u001b[39m)\n",
      "File \u001b[1;32mc:\\Users\\Nicolas Girard\\Documents\\VAE_HAWKES_PROCESS_ESTIMATION\\src\\tools\\utils.py:372\u001b[0m, in \u001b[0;36mprofiling.<locals>.prof_decorator.<locals>.wrapper\u001b[1;34m(*_args, **kwargs)\u001b[0m\n\u001b[0;32m    369\u001b[0m         writer\u001b[39m.\u001b[39mclose()\n\u001b[0;32m    370\u001b[0m \u001b[39melse\u001b[39;00m:\n\u001b[0;32m    371\u001b[0m     \u001b[39m# No profiling\u001b[39;00m\n\u001b[1;32m--> 372\u001b[0m     result \u001b[39m=\u001b[39m func(\u001b[39m*\u001b[39;49m_args, \u001b[39m*\u001b[39;49m\u001b[39m*\u001b[39;49mkwargs)\n\u001b[0;32m    374\u001b[0m \u001b[39mreturn\u001b[39;00m result\n",
      "File \u001b[1;32mc:\\Users\\Nicolas Girard\\Documents\\VAE_HAWKES_PROCESS_ESTIMATION\\src\\dl\\mlp_model.py:344\u001b[0m, in \u001b[0;36mMLPTrainer.train_model\u001b[1;34m(self, train_loader, val_loader, val_x, val_y)\u001b[0m\n\u001b[0;32m    341\u001b[0m writer\u001b[39m.\u001b[39mclose()\n\u001b[0;32m    343\u001b[0m \u001b[39m# Written parameters to Parquet file\u001b[39;00m\n\u001b[1;32m--> 344\u001b[0m write_parquet({\u001b[39m'\u001b[39;49m\u001b[39mtrain_losses\u001b[39;49m\u001b[39m'\u001b[39;49m: \u001b[39mself\u001b[39;49m\u001b[39m.\u001b[39;49mtrain_losses, \n\u001b[0;32m    345\u001b[0m                \u001b[39m'\u001b[39;49m\u001b[39mval_losses\u001b[39;49m\u001b[39m'\u001b[39;49m: \u001b[39mself\u001b[39;49m\u001b[39m.\u001b[39;49mval_losses}, \n\u001b[0;32m    346\u001b[0m                filename\u001b[39m=\u001b[39;49m\u001b[39mf\u001b[39;49m\u001b[39m\"\u001b[39;49m\u001b[39m{\u001b[39;49;00m\u001b[39mself\u001b[39;49m\u001b[39m.\u001b[39;49mrun_name\u001b[39m}\u001b[39;49;00m\u001b[39m_losses.parquet\u001b[39;49m\u001b[39m\"\u001b[39;49m, \n\u001b[0;32m    347\u001b[0m                folder\u001b[39m=\u001b[39;49mos\u001b[39m.\u001b[39;49mpath\u001b[39m.\u001b[39;49mjoin(\u001b[39mself\u001b[39;49m\u001b[39m.\u001b[39;49mlogdirun, \u001b[39mself\u001b[39;49m\u001b[39m.\u001b[39;49mtrain_dir, \u001b[39mself\u001b[39;49m\u001b[39m.\u001b[39;49mrun_name))\n\u001b[0;32m    349\u001b[0m write_parquet({\u001b[39m'\u001b[39m\u001b[39mval_eta_true\u001b[39m\u001b[39m'\u001b[39m: val_y[:, \u001b[39m0\u001b[39m], \n\u001b[0;32m    350\u001b[0m                \u001b[39m'\u001b[39m\u001b[39mval_mu_true\u001b[39m\u001b[39m'\u001b[39m: val_y[:, \u001b[39m1\u001b[39m],\n\u001b[0;32m    351\u001b[0m                \u001b[39m'\u001b[39m\u001b[39mval_eta_pred\u001b[39m\u001b[39m'\u001b[39m: val_y_pred[:, \u001b[39m0\u001b[39m], \n\u001b[0;32m    352\u001b[0m                \u001b[39m'\u001b[39m\u001b[39mval_mu_pred\u001b[39m\u001b[39m'\u001b[39m: val_y_pred[:, \u001b[39m1\u001b[39m]}, \n\u001b[0;32m    353\u001b[0m                filename\u001b[39m=\u001b[39m\u001b[39mf\u001b[39m\u001b[39m\"\u001b[39m\u001b[39m{\u001b[39;00m\u001b[39mself\u001b[39m\u001b[39m.\u001b[39mrun_name\u001b[39m}\u001b[39;00m\u001b[39m_predictions.parquet\u001b[39m\u001b[39m\"\u001b[39m, \n\u001b[0;32m    354\u001b[0m                folder\u001b[39m=\u001b[39mos\u001b[39m.\u001b[39mpath\u001b[39m.\u001b[39mjoin(\u001b[39mself\u001b[39m\u001b[39m.\u001b[39mlogdirun, \u001b[39mself\u001b[39m\u001b[39m.\u001b[39mtrain_dir, \u001b[39mself\u001b[39m\u001b[39m.\u001b[39mrun_name))\n\u001b[0;32m    356\u001b[0m \u001b[39mreturn\u001b[39;00m \u001b[39mself\u001b[39m\u001b[39m.\u001b[39mmodel, \u001b[39mself\u001b[39m\u001b[39m.\u001b[39mtrain_losses, \u001b[39mself\u001b[39m\u001b[39m.\u001b[39mval_losses, val_y_pred, val_eta_pred, val_mu_pred\n",
      "\u001b[1;31mTypeError\u001b[0m: write_parquet() got an unexpected keyword argument 'folder'"
     ]
    }
   ],
   "source": [
    "# Trained model\n",
    "\n",
    "model, train_losses, val_losses, val_y_pred, val_eta, val_mu = MLPTrainer().train_model(train_loader, val_loader, val_x, val_y)\n",
    "%load_ext tensorboard"
   ]
  },
  {
   "cell_type": "code",
   "execution_count": 134,
   "metadata": {},
   "outputs": [
    {
     "name": "stdout",
     "output_type": "stream",
     "text": [
      "Test set - Test loss: 4.6536, Estimated branching ratio (η): 0.0687, Estimated baseline intensity (µ): 0.0644\n",
      "The tensorboard extension is already loaded. To reload it, use:\n",
      "  %reload_ext tensorboard\n"
     ]
    }
   ],
   "source": [
    "# Tested model\n",
    "\n",
    "test_y_pred, test_loss, test_eta, test_mu = MLPTrainer().test_model(test_loader, test_y)\n",
    "%load_ext tensorboard"
   ]
  },
  {
   "cell_type": "code",
   "execution_count": 371,
   "metadata": {},
   "outputs": [
    {
     "name": "stdout",
     "output_type": "stream",
     "text": [
      "Best model loading (2023_04_27_14_29_36_MICSHPEG8GIRARD_BEST_MODEL.pt)...\n",
      "Validation set - Estimated branching ratio (η): 0.4681, Estimated baseline intensity (µ): 2.6814\n",
      "Linear Regression (Slope: 0.2162, Intercept: -2.0538) - Estimated self-exciting rate (α): 0.3246, Estimated decay rate (β): 2.1364\n"
     ]
    }
   ],
   "source": [
    "# α and β estimation (linear model)\n",
    "\n",
    "param_pred, alpha_pred, beta_pred = linear_model(train_x, train_y, val_x)"
   ]
  },
  {
   "cell_type": "code",
   "execution_count": null,
   "metadata": {},
   "outputs": [],
   "source": [
    "# Tests and comparison (Testing Effects of Parameters = β, η, ∆, E)\n",
    "\n",
    "# Intensity Decay Parameter (β) = U(p = 1, q = 3)\n",
    "# Branching Ratio (η) = U(a = 0.2, b = 0.6)\n",
    "# Expected Activity (E) = 500\n",
    "# Time Horizon (T) = 100\n",
    "# Interval Length (∆) = 1\n",
    "# Number of processes = 200\n",
    "# Number of tests = 100\n",
    "\n",
    "# Intensity Decay Parameter (β) | Branching Ratio (η) | Interval Length (∆) | Expected Activity (E)\n",
    "                                                                   \n",
    "#          [0.5,2.5]                   [0.1,0.4]               0.25                   50\n",
    "#         [1.75,3.75]                  [0.3,0.6]               0.5                    100\n",
    "#            [3,5]                     [0.5,0.8]                1                     250\n",
    "#           [0.5,3]                    [0.1,0.6]                2                     500\n",
    "#           [1.5,4]                    [0.2,0.7]                5                     1000\n",
    "#           [2.5,5]                    [0.3,0.8]\n",
    "#           [0.5,4]                    [0.05,0.6]\n",
    "#           [1.5,5]                    [0.05,0.7]\n",
    "#           [0.5,5]                    [0.05,0.8]\n",
    "\n",
    "# Hawkes process hyper-parameters generation\n",
    "params, alpha, beta, mu = hyper_params_simulation(filename=\"hawkes_hyperparams.parquet\")\n",
    "\n",
    "# Hawkes processes simulations\n",
    "simulated_events_seqs = hawkes_simulations(alpha, beta, mu, filename='hawkes_simulations.parquet')\n",
    "\n",
    "# Discrétiser les processus de Hawkes\n",
    "discret_simulated_events_seqs = discretise(simulated_events_seqs, filename='binned_hawkes_simulations.parquet')"
   ]
  },
  {
   "cell_type": "code",
   "execution_count": 121,
   "metadata": {},
   "outputs": [
    {
     "data": {
      "text/html": [
       "<div>\n",
       "<style scoped>\n",
       "    .dataframe tbody tr th:only-of-type {\n",
       "        vertical-align: middle;\n",
       "    }\n",
       "\n",
       "    .dataframe tbody tr th {\n",
       "        vertical-align: top;\n",
       "    }\n",
       "\n",
       "    .dataframe thead th {\n",
       "        text-align: right;\n",
       "    }\n",
       "</style>\n",
       "<table border=\"1\" class=\"dataframe\">\n",
       "  <thead>\n",
       "    <tr style=\"text-align: right;\">\n",
       "      <th></th>\n",
       "      <th>val_eta_true</th>\n",
       "      <th>val_mu_true</th>\n",
       "      <th>val_eta_pred</th>\n",
       "      <th>val_mu_pred</th>\n",
       "    </tr>\n",
       "  </thead>\n",
       "  <tbody>\n",
       "    <tr>\n",
       "      <th>0</th>\n",
       "      <td>0.289340</td>\n",
       "      <td>3.578383</td>\n",
       "      <td>0.236507</td>\n",
       "      <td>3.864950</td>\n",
       "    </tr>\n",
       "    <tr>\n",
       "      <th>1</th>\n",
       "      <td>0.116476</td>\n",
       "      <td>4.999648</td>\n",
       "      <td>0.221661</td>\n",
       "      <td>3.946149</td>\n",
       "    </tr>\n",
       "    <tr>\n",
       "      <th>2</th>\n",
       "      <td>0.724130</td>\n",
       "      <td>1.420453</td>\n",
       "      <td>0.559577</td>\n",
       "      <td>2.149976</td>\n",
       "    </tr>\n",
       "    <tr>\n",
       "      <th>3</th>\n",
       "      <td>0.710604</td>\n",
       "      <td>1.188248</td>\n",
       "      <td>0.663752</td>\n",
       "      <td>1.674449</td>\n",
       "    </tr>\n",
       "    <tr>\n",
       "      <th>4</th>\n",
       "      <td>0.691518</td>\n",
       "      <td>1.293628</td>\n",
       "      <td>0.635288</td>\n",
       "      <td>1.804378</td>\n",
       "    </tr>\n",
       "    <tr>\n",
       "      <th>...</th>\n",
       "      <td>...</td>\n",
       "      <td>...</td>\n",
       "      <td>...</td>\n",
       "      <td>...</td>\n",
       "    </tr>\n",
       "    <tr>\n",
       "      <th>39995</th>\n",
       "      <td>0.339272</td>\n",
       "      <td>3.285681</td>\n",
       "      <td>0.475098</td>\n",
       "      <td>2.559999</td>\n",
       "    </tr>\n",
       "    <tr>\n",
       "      <th>39996</th>\n",
       "      <td>0.509901</td>\n",
       "      <td>2.245607</td>\n",
       "      <td>0.385080</td>\n",
       "      <td>3.052341</td>\n",
       "    </tr>\n",
       "    <tr>\n",
       "      <th>39997</th>\n",
       "      <td>0.691510</td>\n",
       "      <td>1.614110</td>\n",
       "      <td>0.703228</td>\n",
       "      <td>1.481999</td>\n",
       "    </tr>\n",
       "    <tr>\n",
       "      <th>39998</th>\n",
       "      <td>0.252738</td>\n",
       "      <td>3.516221</td>\n",
       "      <td>0.329935</td>\n",
       "      <td>3.353953</td>\n",
       "    </tr>\n",
       "    <tr>\n",
       "      <th>39999</th>\n",
       "      <td>0.552016</td>\n",
       "      <td>2.394232</td>\n",
       "      <td>0.660172</td>\n",
       "      <td>1.690791</td>\n",
       "    </tr>\n",
       "  </tbody>\n",
       "</table>\n",
       "<p>40000 rows × 4 columns</p>\n",
       "</div>"
      ],
      "text/plain": [
       "       val_eta_true  val_mu_true  val_eta_pred  val_mu_pred\n",
       "0          0.289340     3.578383      0.236507     3.864950\n",
       "1          0.116476     4.999648      0.221661     3.946149\n",
       "2          0.724130     1.420453      0.559577     2.149976\n",
       "3          0.710604     1.188248      0.663752     1.674449\n",
       "4          0.691518     1.293628      0.635288     1.804378\n",
       "...             ...          ...           ...          ...\n",
       "39995      0.339272     3.285681      0.475098     2.559999\n",
       "39996      0.509901     2.245607      0.385080     3.052341\n",
       "39997      0.691510     1.614110      0.703228     1.481999\n",
       "39998      0.252738     3.516221      0.329935     3.353953\n",
       "39999      0.552016     2.394232      0.660172     1.690791\n",
       "\n",
       "[40000 rows x 4 columns]"
      ]
     },
     "execution_count": 121,
     "metadata": {},
     "output_type": "execute_result"
    }
   ],
   "source": [
    "import variables.eval_var as eval\n",
    "\n",
    "read_parquet('2023_04_27_14_29_36_MICSHPEG8GIRARD_PRED.parquet', folder=os.path.join(eval.LOGDIRUN, 'TRAINING', eval.RUN_NAME))"
   ]
  }
 ],
 "metadata": {
  "kernelspec": {
   "display_name": "Python 3",
   "language": "python",
   "name": "python3"
  },
  "language_info": {
   "codemirror_mode": {
    "name": "ipython",
    "version": 3
   },
   "file_extension": ".py",
   "mimetype": "text/x-python",
   "name": "python",
   "nbconvert_exporter": "python",
   "pygments_lexer": "ipython3",
   "version": "3.11.2"
  },
  "orig_nbformat": 4
 },
 "nbformat": 4,
 "nbformat_minor": 2
}
