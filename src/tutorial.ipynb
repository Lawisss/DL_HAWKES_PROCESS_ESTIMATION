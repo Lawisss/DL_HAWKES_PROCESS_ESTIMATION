{
 "cells": [
  {
   "attachments": {},
   "cell_type": "markdown",
   "metadata": {},
   "source": [
    "## VAE Hawkes Process Estimation - Tutorial"
   ]
  },
  {
   "cell_type": "code",
   "execution_count": 2,
   "metadata": {},
   "outputs": [],
   "source": [
    "import os\n",
    "\n",
    "import numpy as np\n",
    "import pandas as pd\n",
    "\n",
    "from dl.mlp_model import MLPTrainer\n",
    "import variables.prep_var as prep\n",
    "from hawkes.simulation import hawkes_simulations, hawkes_simulation\n",
    "from hawkes.hyperparameters import hyper_params_simulation\n",
    "from hawkes.discretisation import discretise\n",
    "from dl.linear_model import linear_model\n",
    "from tools.utils import write_csv, write_parquet, read_parquet, timer, parquet_to_csv, read_csv\n",
    "from preprocessing.dataset import split_data, create_datasets, create_data_loaders\n",
    "\n",
    "%load_ext autoreload\n",
    "%autoreload 2"
   ]
  },
  {
   "attachments": {},
   "cell_type": "markdown",
   "metadata": {},
   "source": [
    "### Preprocessing"
   ]
  },
  {
   "cell_type": "code",
   "execution_count": 2,
   "metadata": {},
   "outputs": [],
   "source": [
    "# Training/Validation/Testing dataset generation\n",
    "\n",
    "# Intensity Decay Parameter (β) = U(p = 1, q = 3)\n",
    "# Branching Ratio (η) = U(a = 0.05, b = 0.8)\n",
    "# Expected Activity (E) = 500\n",
    "# Time Horizon (T) = 100\n",
    "# Interval Length (∆) = 1\n",
    "# Number of processes = 100_000\n",
    "\n",
    "# Hawkes process hyper-parameters generation\n",
    "params, alpha, beta, mu = hyper_params_simulation(filename=\"hawkes_hyperparams.parquet\")\n",
    "\n",
    "# Hawkes processes simulations\n",
    "simulated_events_seqs = hawkes_simulations(alpha, beta, mu, filename='hawkes_simulations.parquet')\n",
    "\n",
    "# Discrétiser les processus de Hawkes\n",
    "discret_simulated_events_seqs = discretise(simulated_events_seqs, filename='binned_hawkes_simulations.parquet')"
   ]
  },
  {
   "cell_type": "code",
   "execution_count": 6,
   "metadata": {},
   "outputs": [],
   "source": [
    "# Data Preparation\n",
    "\n",
    "x = read_parquet(\"binned_hawkes_simulations.parquet\")\n",
    "y = read_parquet('hawkes_hyperparams.parquet')\n",
    "\n",
    "train_x, train_y, val_x, val_y, test_x, test_y = split_data(x, y.iloc[:, [0, 2]])\n",
    "train_dataset, val_dataset, test_dataset = create_datasets(train_x, train_y, val_x, val_y, test_x, test_y)\n",
    "train_loader, val_loader, test_loader = create_data_loaders(train_dataset, val_dataset, test_dataset)"
   ]
  },
  {
   "cell_type": "code",
   "execution_count": 75,
   "metadata": {},
   "outputs": [
    {
     "name": "stdout",
     "output_type": "stream",
     "text": [
      "=======================================================================================================================================================================================================================\n",
      "Layer (type:depth-idx)                   Input Shape               Output Shape              Param #                   Param %                   Kernel Shape              Mult-Adds                 Trainable\n",
      "=======================================================================================================================================================================================================================\n",
      "MLP                                      [10000, 100]              [10000, 2]                --                             --                   --                        --                        True\n",
      "├─Linear: 1-1                            [10000, 100]              [10000, 100]              10,100                     14.25%                   --                        101,000,000               True\n",
      "├─ModuleList: 1-2                        --                        --                        --                             --                   --                        --                        True\n",
      "│    └─Sequential: 2-1                   [10000, 100]              [10000, 100]              --                             --                   --                        --                        True\n",
      "│    │    └─Linear: 3-1                  [10000, 100]              [10000, 100]              10,100                     14.25%                   --                        101,000,000               True\n",
      "│    │    └─ReLU: 3-2                    [10000, 100]              [10000, 100]              --                             --                   --                        --                        --\n",
      "│    └─Sequential: 2-2                   [10000, 100]              [10000, 100]              --                             --                   --                        --                        True\n",
      "│    │    └─Linear: 3-3                  [10000, 100]              [10000, 100]              10,100                     14.25%                   --                        101,000,000               True\n",
      "│    │    └─ReLU: 3-4                    [10000, 100]              [10000, 100]              --                             --                   --                        --                        --\n",
      "│    └─Sequential: 2-3                   [10000, 100]              [10000, 100]              --                             --                   --                        --                        True\n",
      "│    │    └─Linear: 3-5                  [10000, 100]              [10000, 100]              10,100                     14.25%                   --                        101,000,000               True\n",
      "│    │    └─ReLU: 3-6                    [10000, 100]              [10000, 100]              --                             --                   --                        --                        --\n",
      "│    └─Sequential: 2-4                   [10000, 100]              [10000, 100]              --                             --                   --                        --                        True\n",
      "│    │    └─Linear: 3-7                  [10000, 100]              [10000, 100]              10,100                     14.25%                   --                        101,000,000               True\n",
      "│    │    └─ReLU: 3-8                    [10000, 100]              [10000, 100]              --                             --                   --                        --                        --\n",
      "│    └─Sequential: 2-5                   [10000, 100]              [10000, 100]              --                             --                   --                        --                        True\n",
      "│    │    └─Linear: 3-9                  [10000, 100]              [10000, 100]              10,100                     14.25%                   --                        101,000,000               True\n",
      "│    │    └─ReLU: 3-10                   [10000, 100]              [10000, 100]              --                             --                   --                        --                        --\n",
      "│    └─Sequential: 2-6                   [10000, 100]              [10000, 100]              --                             --                   --                        --                        True\n",
      "│    │    └─Linear: 3-11                 [10000, 100]              [10000, 100]              10,100                     14.25%                   --                        101,000,000               True\n",
      "│    │    └─ReLU: 3-12                   [10000, 100]              [10000, 100]              --                             --                   --                        --                        --\n",
      "├─Linear: 1-3                            [10000, 100]              [10000, 2]                202                         0.28%                   --                        2,020,000                 True\n",
      "=======================================================================================================================================================================================================================\n",
      "Total params: 70,902\n",
      "Trainable params: 70,902\n",
      "Non-trainable params: 0\n",
      "Total mult-adds (Units.MEGABYTES): 709.02\n",
      "=======================================================================================================================================================================================================================\n",
      "Input size (MB): 4.00\n",
      "Forward/backward pass size (MB): 56.16\n",
      "Params size (MB): 0.28\n",
      "Estimated Total Size (MB): 60.44\n",
      "=======================================================================================================================================================================================================================\n",
      "             MLP               Summary\n"
     ]
    },
    {
     "name": "stderr",
     "output_type": "stream",
     "text": [
      "Epoch 319/500 - train_loss: 0.2649, val_loss: 0.2900:  64%|\u001b[32m██████▍   \u001b[0m| 319/500 [53:48<30:31, 10.12s/it]  "
     ]
    },
    {
     "name": "stdout",
     "output_type": "stream",
     "text": [
      "Unexpected exception formatting exception. Falling back to standard exception\n"
     ]
    },
    {
     "name": "stderr",
     "output_type": "stream",
     "text": [
      "\n",
      "Traceback (most recent call last):\n",
      "  File \"C:\\Users\\Nicolas Girard\\AppData\\Roaming\\Python\\Python311\\site-packages\\IPython\\core\\interactiveshell.py\", line 3505, in run_code\n",
      "    exec(code_obj, self.user_global_ns, self.user_ns)\n",
      "  File \"C:\\Users\\Nicolas Girard\\AppData\\Local\\Temp\\ipykernel_6260\\3997827302.py\", line 3, in <module>\n",
      "    model, train_losses, val_losses, val_y_pred, val_eta, val_mu = MLPTrainer().train_model(train_loader, val_loader, val_x, val_y)\n",
      "                                                                   ^^^^^^^^^^^^^^^^^^^^^^^^^^^^^^^^^^^^^^^^^^^^^^^^^^^^^^^^^^^^^^^^\n",
      "  File \"c:\\Users\\Nicolas Girard\\Documents\\VAE_HAWKES_PROCESS_ESTIMATION\\src\\tools\\utils.py\", line 376, in wrapper\n",
      "    result = func(*_args, **kwargs)\n",
      "             ^^^^^^^^^^^^^^^^^^^^^^\n",
      "  File \"c:\\Users\\Nicolas Girard\\Documents\\VAE_HAWKES_PROCESS_ESTIMATION\\src\\dl\\mlp_model.py\", line 319, in train_model\n",
      "    pbar.update(1)\n",
      "                   \n",
      "  File \"c:\\Users\\Nicolas Girard\\AppData\\Local\\Programs\\Python\\Python311\\Lib\\site-packages\\torch\\utils\\_contextlib.py\", line 115, in decorate_context\n",
      "    return func(*args, **kwargs)\n",
      "           ^^^^^^^^^^^^^^^^^^^^^\n",
      "  File \"c:\\Users\\Nicolas Girard\\Documents\\VAE_HAWKES_PROCESS_ESTIMATION\\src\\dl\\mlp_model.py\", line 198, in evaluate\n",
      "  File \"c:\\Users\\Nicolas Girard\\AppData\\Local\\Programs\\Python\\Python311\\Lib\\site-packages\\torch\\utils\\data\\dataloader.py\", line 634, in __next__\n",
      "    data = self._next_data()\n",
      "           ^^^^^^^^^^^^^^^^^\n",
      "  File \"c:\\Users\\Nicolas Girard\\AppData\\Local\\Programs\\Python\\Python311\\Lib\\site-packages\\torch\\utils\\data\\dataloader.py\", line 1329, in _next_data\n",
      "    idx, data = self._get_data()\n",
      "                ^^^^^^^^^^^^^^^^\n",
      "  File \"c:\\Users\\Nicolas Girard\\AppData\\Local\\Programs\\Python\\Python311\\Lib\\site-packages\\torch\\utils\\data\\dataloader.py\", line 1295, in _get_data\n",
      "    success, data = self._try_get_data()\n",
      "                    ^^^^^^^^^^^^^^^^^^^^\n",
      "  File \"c:\\Users\\Nicolas Girard\\AppData\\Local\\Programs\\Python\\Python311\\Lib\\site-packages\\torch\\utils\\data\\dataloader.py\", line 1133, in _try_get_data\n",
      "    data = self._data_queue.get(timeout=timeout)\n",
      "           ^^^^^^^^^^^^^^^^^^^^^^^^^^^^^^^^^^^^^\n",
      "  File \"c:\\Users\\Nicolas Girard\\AppData\\Local\\Programs\\Python\\Python311\\Lib\\multiprocessing\\queues.py\", line 113, in get\n",
      "    if not self._poll(timeout):\n",
      "           ^^^^^^^^^^^^^^^^^^^\n",
      "  File \"c:\\Users\\Nicolas Girard\\AppData\\Local\\Programs\\Python\\Python311\\Lib\\multiprocessing\\connection.py\", line 256, in poll\n",
      "    return self._poll(timeout)\n",
      "           ^^^^^^^^^^^^^^^^^^^\n",
      "  File \"c:\\Users\\Nicolas Girard\\AppData\\Local\\Programs\\Python\\Python311\\Lib\\multiprocessing\\connection.py\", line 329, in _poll\n",
      "    return bool(wait([self], timeout))\n",
      "                ^^^^^^^^^^^^^^^^^^^^^\n",
      "  File \"c:\\Users\\Nicolas Girard\\AppData\\Local\\Programs\\Python\\Python311\\Lib\\multiprocessing\\connection.py\", line 878, in wait\n",
      "    ready_handles = _exhaustive_wait(waithandle_to_obj.keys(), timeout)\n",
      "                    ^^^^^^^^^^^^^^^^^^^^^^^^^^^^^^^^^^^^^^^^^^^^^^^^^^^\n",
      "  File \"c:\\Users\\Nicolas Girard\\AppData\\Local\\Programs\\Python\\Python311\\Lib\\multiprocessing\\connection.py\", line 810, in _exhaustive_wait\n",
      "    res = _winapi.WaitForMultipleObjects(L, False, timeout)\n",
      "          ^^^^^^^^^^^^^^^^^^^^^^^^^^^^^^^^^^^^^^^^^^^^^^^^^\n",
      "KeyboardInterrupt\n",
      "\n",
      "During handling of the above exception, another exception occurred:\n",
      "\n",
      "Traceback (most recent call last):\n",
      "  File \"C:\\Users\\Nicolas Girard\\AppData\\Roaming\\Python\\Python311\\site-packages\\IPython\\core\\interactiveshell.py\", line 2102, in showtraceback\n",
      "    stb = self.InteractiveTB.structured_traceback(\n",
      "          ^^^^^^^^^^^^^^^^^^^^^^^^^^^^^^^^^^^^^^^^\n",
      "  File \"C:\\Users\\Nicolas Girard\\AppData\\Roaming\\Python\\Python311\\site-packages\\IPython\\core\\ultratb.py\", line 1310, in structured_traceback\n",
      "    return FormattedTB.structured_traceback(\n",
      "           ^^^^^^^^^^^^^^^^^^^^^^^^^^^^^^^^^\n",
      "  File \"C:\\Users\\Nicolas Girard\\AppData\\Roaming\\Python\\Python311\\site-packages\\IPython\\core\\ultratb.py\", line 1199, in structured_traceback\n",
      "    return VerboseTB.structured_traceback(\n",
      "           ^^^^^^^^^^^^^^^^^^^^^^^^^^^^^^^\n",
      "  File \"C:\\Users\\Nicolas Girard\\AppData\\Roaming\\Python\\Python311\\site-packages\\IPython\\core\\ultratb.py\", line 1052, in structured_traceback\n",
      "    formatted_exception = self.format_exception_as_a_whole(etype, evalue, etb, number_of_lines_of_context,\n",
      "                          ^^^^^^^^^^^^^^^^^^^^^^^^^^^^^^^^^^^^^^^^^^^^^^^^^^^^^^^^^^^^^^^^^^^^^^^^^^^^^^^^\n",
      "  File \"C:\\Users\\Nicolas Girard\\AppData\\Roaming\\Python\\Python311\\site-packages\\IPython\\core\\ultratb.py\", line 978, in format_exception_as_a_whole\n",
      "    frames.append(self.format_record(record))\n",
      "                  ^^^^^^^^^^^^^^^^^^^^^^^^^^\n",
      "  File \"C:\\Users\\Nicolas Girard\\AppData\\Roaming\\Python\\Python311\\site-packages\\IPython\\core\\ultratb.py\", line 878, in format_record\n",
      "    frame_info.lines, Colors, self.has_colors, lvals\n",
      "    ^^^^^^^^^^^^^^^^\n",
      "  File \"C:\\Users\\Nicolas Girard\\AppData\\Roaming\\Python\\Python311\\site-packages\\IPython\\core\\ultratb.py\", line 712, in lines\n",
      "    return self._sd.lines\n",
      "           ^^^^^^^^^^^^^^\n",
      "  File \"C:\\Users\\Nicolas Girard\\AppData\\Roaming\\Python\\Python311\\site-packages\\stack_data\\utils.py\", line 144, in cached_property_wrapper\n",
      "    value = obj.__dict__[self.func.__name__] = self.func(obj)\n",
      "                                               ^^^^^^^^^^^^^^\n",
      "  File \"C:\\Users\\Nicolas Girard\\AppData\\Roaming\\Python\\Python311\\site-packages\\stack_data\\core.py\", line 734, in lines\n",
      "    pieces = self.included_pieces\n",
      "             ^^^^^^^^^^^^^^^^^^^^\n",
      "  File \"C:\\Users\\Nicolas Girard\\AppData\\Roaming\\Python\\Python311\\site-packages\\stack_data\\utils.py\", line 144, in cached_property_wrapper\n",
      "    value = obj.__dict__[self.func.__name__] = self.func(obj)\n",
      "                                               ^^^^^^^^^^^^^^\n",
      "  File \"C:\\Users\\Nicolas Girard\\AppData\\Roaming\\Python\\Python311\\site-packages\\stack_data\\core.py\", line 681, in included_pieces\n",
      "    pos = scope_pieces.index(self.executing_piece)\n",
      "                             ^^^^^^^^^^^^^^^^^^^^\n",
      "  File \"C:\\Users\\Nicolas Girard\\AppData\\Roaming\\Python\\Python311\\site-packages\\stack_data\\utils.py\", line 144, in cached_property_wrapper\n",
      "    value = obj.__dict__[self.func.__name__] = self.func(obj)\n",
      "                                               ^^^^^^^^^^^^^^\n",
      "  File \"C:\\Users\\Nicolas Girard\\AppData\\Roaming\\Python\\Python311\\site-packages\\stack_data\\core.py\", line 660, in executing_piece\n",
      "    return only(\n",
      "           ^^^^^\n",
      "  File \"C:\\Users\\Nicolas Girard\\AppData\\Roaming\\Python\\Python311\\site-packages\\executing\\executing.py\", line 190, in only\n",
      "    raise NotOneValueFound('Expected one value, found 0')\n",
      "executing.executing.NotOneValueFound: Expected one value, found 0\n"
     ]
    }
   ],
   "source": [
    "# Trained model\n",
    "\n",
    "model, train_losses, val_losses, val_y_pred, val_eta, val_mu = MLPTrainer().train_model(train_loader, val_loader, val_x, val_y)\n",
    "%load_ext tensorboard"
   ]
  },
  {
   "cell_type": "code",
   "execution_count": 23,
   "metadata": {},
   "outputs": [
    {
     "name": "stdout",
     "output_type": "stream",
     "text": [
      "Test set - Test loss: 5.0181, Estimated branching ratio (η): -0.0096, Estimated baseline intensity (µ): -0.0436\n",
      "The tensorboard extension is already loaded. To reload it, use:\n",
      "  %reload_ext tensorboard\n"
     ]
    }
   ],
   "source": [
    "# Tested model\n",
    "\n",
    "# test_y_pred, test_loss, test_eta, test_mu = MLPTrainer().test_model(test_loader, test_y)\n",
    "# %load_ext tensorboard\n",
    "\n",
    "# α and β estimation (linear model)\n",
    "\n",
    "# param_pred, alpha_pred, beta_pred = linear_model(train_x, train_y, val_x)"
   ]
  },
  {
   "cell_type": "code",
   "execution_count": null,
   "metadata": {},
   "outputs": [],
   "source": [
    "# Tests and comparison (Testing Effects of Parameters = β, η, ∆, E)\n",
    "\n",
    "# Intensity Decay Parameter (β) = U(p = 1, q = 3)\n",
    "# Branching Ratio (η) = U(a = 0.2, b = 0.6)\n",
    "# Expected Activity (E) = 500\n",
    "# Time Horizon (T) = 100\n",
    "# Interval Length (∆) = 1\n",
    "# Number of processes = 200\n",
    "# Number of tests = 100\n",
    "\n",
    "# Intensity Decay Parameter (β) | Branching Ratio (η) | Interval Length (∆) | Expected Activity (E)\n",
    "                                                                   \n",
    "#          [0.5,2.5]                   [0.1,0.4]               0.25                   50\n",
    "#         [1.75,3.75]                  [0.3,0.6]               0.5                    100\n",
    "#            [3,5]                     [0.5,0.8]                1                     250\n",
    "#           [0.5,3]                    [0.1,0.6]                2                     500\n",
    "#           [1.5,4]                    [0.2,0.7]                5                     1000\n",
    "#           [2.5,5]                    [0.3,0.8]\n",
    "#           [0.5,4]                    [0.05,0.6]\n",
    "#           [1.5,5]                    [0.05,0.7]\n",
    "#           [0.5,5]                    [0.05,0.8]\n",
    "\n",
    "# Hawkes process hyper-parameters generation\n",
    "params, alpha, beta, mu = hyper_params_simulation(filename=\"hawkes_hyperparams.parquet\")\n",
    "\n",
    "# Hawkes processes simulations\n",
    "simulated_events_seqs = hawkes_simulations(alpha, beta, mu, filename='hawkes_simulations.parquet')\n",
    "\n",
    "# Discrétiser les processus de Hawkes\n",
    "discret_simulated_events_seqs = discretise(simulated_events_seqs, filename='binned_hawkes_simulations.parquet')"
   ]
  }
 ],
 "metadata": {
  "kernelspec": {
   "display_name": "Python 3",
   "language": "python",
   "name": "python3"
  },
  "language_info": {
   "codemirror_mode": {
    "name": "ipython",
    "version": 3
   },
   "file_extension": ".py",
   "mimetype": "text/x-python",
   "name": "python",
   "nbconvert_exporter": "python",
   "pygments_lexer": "ipython3",
   "version": "3.11.2"
  },
  "orig_nbformat": 4
 },
 "nbformat": 4,
 "nbformat_minor": 2
}
