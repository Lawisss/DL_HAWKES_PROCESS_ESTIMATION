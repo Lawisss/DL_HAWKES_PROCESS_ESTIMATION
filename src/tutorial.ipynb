{
 "cells": [
  {
   "attachments": {},
   "cell_type": "markdown",
   "metadata": {},
   "source": [
    "## VAE Hawkes Process Estimation - Tutorial"
   ]
  },
  {
   "cell_type": "code",
   "execution_count": 73,
   "metadata": {},
   "outputs": [
    {
     "name": "stdout",
     "output_type": "stream",
     "text": [
      "The autoreload extension is already loaded. To reload it, use:\n",
      "  %reload_ext autoreload\n"
     ]
    }
   ],
   "source": [
    "import os\n",
    "\n",
    "import numpy as np\n",
    "import pandas as pd\n",
    "\n",
    "from dl.mlp_model import MLPTrainer\n",
    "import variables.prep_var as prep\n",
    "from hawkes.simulation import hawkes_simulations, hawkes_simulation\n",
    "from hawkes.hyperparameters import hyper_params_simulation\n",
    "from hawkes.discretisation import discretise\n",
    "from dl.linear_model import linear_model\n",
    "from tools.utils import write_csv, write_parquet, read_parquet, timer, parquet_to_csv, read_csv\n",
    "from preprocessing.dataset import split_data, create_datasets, create_data_loaders\n",
    "\n",
    "%load_ext autoreload\n",
    "%autoreload 2"
   ]
  },
  {
   "attachments": {},
   "cell_type": "markdown",
   "metadata": {},
   "source": [
    "### Preprocessing"
   ]
  },
  {
   "cell_type": "code",
   "execution_count": 31,
   "metadata": {},
   "outputs": [],
   "source": [
    "# Training/Validation/Testing dataset generation\n",
    "\n",
    "# Intensity Decay Parameter (β) = U(p = 1, q = 3)\n",
    "# Branching Ratio (η) = U(a = 0.05, b = 0.8)\n",
    "# Expected Activity (E) = 500\n",
    "# Time Horizon (T) = 100\n",
    "# Interval Length (∆) = 1\n",
    "# Number of processes = 100_000\n",
    "\n",
    "# Hawkes process hyper-parameters generation\n",
    "params, alpha, beta, mu = hyper_params_simulation(filename=\"hawkes_hyperparams.parquet\")\n",
    "\n",
    "# Hawkes processes simulations\n",
    "simulated_events_seqs = hawkes_simulations(alpha, beta, mu, filename='hawkes_simulations.parquet')\n",
    "\n",
    "# Discrétiser les processus de Hawkes\n",
    "discret_simulated_events_seqs = discretise(simulated_events_seqs, filename='binned_hawkes_simulations.parquet')"
   ]
  },
  {
   "cell_type": "code",
   "execution_count": 74,
   "metadata": {},
   "outputs": [],
   "source": [
    "# Data Preparation\n",
    "\n",
    "x = read_parquet(\"binned_hawkes_simulations.parquet\")\n",
    "y = read_parquet('hawkes_hyperparams.parquet')\n",
    "\n",
    "train_x, train_y, val_x, val_y, test_x, test_y = split_data(x, y.iloc[:, [0, 2]])\n",
    "train_dataset, val_dataset, test_dataset = create_datasets(train_x, train_y, val_x, val_y, test_x, test_y)\n",
    "train_loader, val_loader, test_loader = create_data_loaders(train_dataset, val_dataset, test_dataset)"
   ]
  },
  {
   "cell_type": "code",
   "execution_count": 75,
   "metadata": {},
   "outputs": [
    {
     "name": "stdout",
     "output_type": "stream",
     "text": [
      "=======================================================================================================================================================================================================================\n",
      "Layer (type:depth-idx)                   Input Shape               Output Shape              Param #                   Param %                   Kernel Shape              Mult-Adds                 Trainable\n",
      "=======================================================================================================================================================================================================================\n",
      "MLP                                      [10000, 100]              [10000, 2]                --                             --                   --                        --                        True\n",
      "├─Linear: 1-1                            [10000, 100]              [10000, 100]              10,100                     14.25%                   --                        101,000,000               True\n",
      "├─ModuleList: 1-2                        --                        --                        --                             --                   --                        --                        True\n",
      "│    └─Sequential: 2-1                   [10000, 100]              [10000, 100]              --                             --                   --                        --                        True\n",
      "│    │    └─Linear: 3-1                  [10000, 100]              [10000, 100]              10,100                     14.25%                   --                        101,000,000               True\n",
      "│    │    └─ReLU: 3-2                    [10000, 100]              [10000, 100]              --                             --                   --                        --                        --\n",
      "│    └─Sequential: 2-2                   [10000, 100]              [10000, 100]              --                             --                   --                        --                        True\n",
      "│    │    └─Linear: 3-3                  [10000, 100]              [10000, 100]              10,100                     14.25%                   --                        101,000,000               True\n",
      "│    │    └─ReLU: 3-4                    [10000, 100]              [10000, 100]              --                             --                   --                        --                        --\n",
      "│    └─Sequential: 2-3                   [10000, 100]              [10000, 100]              --                             --                   --                        --                        True\n",
      "│    │    └─Linear: 3-5                  [10000, 100]              [10000, 100]              10,100                     14.25%                   --                        101,000,000               True\n",
      "│    │    └─ReLU: 3-6                    [10000, 100]              [10000, 100]              --                             --                   --                        --                        --\n",
      "│    └─Sequential: 2-4                   [10000, 100]              [10000, 100]              --                             --                   --                        --                        True\n",
      "│    │    └─Linear: 3-7                  [10000, 100]              [10000, 100]              10,100                     14.25%                   --                        101,000,000               True\n",
      "│    │    └─ReLU: 3-8                    [10000, 100]              [10000, 100]              --                             --                   --                        --                        --\n",
      "│    └─Sequential: 2-5                   [10000, 100]              [10000, 100]              --                             --                   --                        --                        True\n",
      "│    │    └─Linear: 3-9                  [10000, 100]              [10000, 100]              10,100                     14.25%                   --                        101,000,000               True\n",
      "│    │    └─ReLU: 3-10                   [10000, 100]              [10000, 100]              --                             --                   --                        --                        --\n",
      "│    └─Sequential: 2-6                   [10000, 100]              [10000, 100]              --                             --                   --                        --                        True\n",
      "│    │    └─Linear: 3-11                 [10000, 100]              [10000, 100]              10,100                     14.25%                   --                        101,000,000               True\n",
      "│    │    └─ReLU: 3-12                   [10000, 100]              [10000, 100]              --                             --                   --                        --                        --\n",
      "├─Linear: 1-3                            [10000, 100]              [10000, 2]                202                         0.28%                   --                        2,020,000                 True\n",
      "=======================================================================================================================================================================================================================\n",
      "Total params: 70,902\n",
      "Trainable params: 70,902\n",
      "Non-trainable params: 0\n",
      "Total mult-adds (Units.MEGABYTES): 709.02\n",
      "=======================================================================================================================================================================================================================\n",
      "Input size (MB): 4.00\n",
      "Forward/backward pass size (MB): 56.16\n",
      "Params size (MB): 0.28\n",
      "Estimated Total Size (MB): 60.44\n",
      "=======================================================================================================================================================================================================================\n",
      "             MLP               Summary\n"
     ]
    },
    {
     "name": "stderr",
     "output_type": "stream",
     "text": [
      "Epoch 132/500 - train_loss: 0.2750, val_loss: 0.2927:  26%|\u001b[32m██▋       \u001b[0m| 132/500 [14:41<43:07,  7.03s/it]"
     ]
    }
   ],
   "source": [
    "# Trained model\n",
    "\n",
    "model, train_losses, val_losses, val_y_pred, val_eta, val_mu = MLPTrainer().train_model(train_loader, val_loader, val_x, val_y)\n",
    "%load_ext tensorboard"
   ]
  },
  {
   "cell_type": "code",
   "execution_count": 23,
   "metadata": {},
   "outputs": [
    {
     "name": "stdout",
     "output_type": "stream",
     "text": [
      "Test set - Test loss: 5.0181, Estimated branching ratio (η): -0.0096, Estimated baseline intensity (µ): -0.0436\n",
      "The tensorboard extension is already loaded. To reload it, use:\n",
      "  %reload_ext tensorboard\n"
     ]
    }
   ],
   "source": [
    "# Tested model\n",
    "\n",
    "# test_y_pred, test_loss, test_eta, test_mu = MLPTrainer().test_model(test_loader, test_y)\n",
    "# %load_ext tensorboard\n",
    "\n",
    "# α and β estimation (linear model)\n",
    "\n",
    "# param_pred, alpha_pred, beta_pred = linear_model(train_x, train_y, val_x)"
   ]
  },
  {
   "cell_type": "code",
   "execution_count": null,
   "metadata": {},
   "outputs": [],
   "source": [
    "# Tests and comparison (Testing Effects of Parameters = β, η, ∆, E)\n",
    "\n",
    "# Intensity Decay Parameter (β) = U(p = 1, q = 3)\n",
    "# Branching Ratio (η) = U(a = 0.2, b = 0.6)\n",
    "# Expected Activity (E) = 500\n",
    "# Time Horizon (T) = 100\n",
    "# Interval Length (∆) = 1\n",
    "# Number of processes = 200\n",
    "# Number of tests = 100\n",
    "\n",
    "# Intensity Decay Parameter (β) | Branching Ratio (η) | Interval Length (∆) | Expected Activity (E)\n",
    "                                                                   \n",
    "#          [0.5,2.5]                   [0.1,0.4]               0.25                   50\n",
    "#         [1.75,3.75]                  [0.3,0.6]               0.5                    100\n",
    "#            [3,5]                     [0.5,0.8]                1                     250\n",
    "#           [0.5,3]                    [0.1,0.6]                2                     500\n",
    "#           [1.5,4]                    [0.2,0.7]                5                     1000\n",
    "#           [2.5,5]                    [0.3,0.8]\n",
    "#           [0.5,4]                    [0.05,0.6]\n",
    "#           [1.5,5]                    [0.05,0.7]\n",
    "#           [0.5,5]                    [0.05,0.8]\n",
    "\n",
    "# Hawkes process hyper-parameters generation\n",
    "params, alpha, beta, mu = hyper_params_simulation(filename=\"hawkes_hyperparams.parquet\")\n",
    "\n",
    "# Hawkes processes simulations\n",
    "simulated_events_seqs = hawkes_simulations(alpha, beta, mu, filename='hawkes_simulations.parquet')\n",
    "\n",
    "# Discrétiser les processus de Hawkes\n",
    "discret_simulated_events_seqs = discretise(simulated_events_seqs, filename='binned_hawkes_simulations.parquet')"
   ]
  },
  {
   "cell_type": "code",
   "execution_count": 121,
   "metadata": {},
   "outputs": [
    {
     "data": {
      "text/html": [
       "<div>\n",
       "<style scoped>\n",
       "    .dataframe tbody tr th:only-of-type {\n",
       "        vertical-align: middle;\n",
       "    }\n",
       "\n",
       "    .dataframe tbody tr th {\n",
       "        vertical-align: top;\n",
       "    }\n",
       "\n",
       "    .dataframe thead th {\n",
       "        text-align: right;\n",
       "    }\n",
       "</style>\n",
       "<table border=\"1\" class=\"dataframe\">\n",
       "  <thead>\n",
       "    <tr style=\"text-align: right;\">\n",
       "      <th></th>\n",
       "      <th>val_eta_true</th>\n",
       "      <th>val_mu_true</th>\n",
       "      <th>val_eta_pred</th>\n",
       "      <th>val_mu_pred</th>\n",
       "    </tr>\n",
       "  </thead>\n",
       "  <tbody>\n",
       "    <tr>\n",
       "      <th>0</th>\n",
       "      <td>0.289340</td>\n",
       "      <td>3.578383</td>\n",
       "      <td>0.236507</td>\n",
       "      <td>3.864950</td>\n",
       "    </tr>\n",
       "    <tr>\n",
       "      <th>1</th>\n",
       "      <td>0.116476</td>\n",
       "      <td>4.999648</td>\n",
       "      <td>0.221661</td>\n",
       "      <td>3.946149</td>\n",
       "    </tr>\n",
       "    <tr>\n",
       "      <th>2</th>\n",
       "      <td>0.724130</td>\n",
       "      <td>1.420453</td>\n",
       "      <td>0.559577</td>\n",
       "      <td>2.149976</td>\n",
       "    </tr>\n",
       "    <tr>\n",
       "      <th>3</th>\n",
       "      <td>0.710604</td>\n",
       "      <td>1.188248</td>\n",
       "      <td>0.663752</td>\n",
       "      <td>1.674449</td>\n",
       "    </tr>\n",
       "    <tr>\n",
       "      <th>4</th>\n",
       "      <td>0.691518</td>\n",
       "      <td>1.293628</td>\n",
       "      <td>0.635288</td>\n",
       "      <td>1.804378</td>\n",
       "    </tr>\n",
       "    <tr>\n",
       "      <th>...</th>\n",
       "      <td>...</td>\n",
       "      <td>...</td>\n",
       "      <td>...</td>\n",
       "      <td>...</td>\n",
       "    </tr>\n",
       "    <tr>\n",
       "      <th>39995</th>\n",
       "      <td>0.339272</td>\n",
       "      <td>3.285681</td>\n",
       "      <td>0.475098</td>\n",
       "      <td>2.559999</td>\n",
       "    </tr>\n",
       "    <tr>\n",
       "      <th>39996</th>\n",
       "      <td>0.509901</td>\n",
       "      <td>2.245607</td>\n",
       "      <td>0.385080</td>\n",
       "      <td>3.052341</td>\n",
       "    </tr>\n",
       "    <tr>\n",
       "      <th>39997</th>\n",
       "      <td>0.691510</td>\n",
       "      <td>1.614110</td>\n",
       "      <td>0.703228</td>\n",
       "      <td>1.481999</td>\n",
       "    </tr>\n",
       "    <tr>\n",
       "      <th>39998</th>\n",
       "      <td>0.252738</td>\n",
       "      <td>3.516221</td>\n",
       "      <td>0.329935</td>\n",
       "      <td>3.353953</td>\n",
       "    </tr>\n",
       "    <tr>\n",
       "      <th>39999</th>\n",
       "      <td>0.552016</td>\n",
       "      <td>2.394232</td>\n",
       "      <td>0.660172</td>\n",
       "      <td>1.690791</td>\n",
       "    </tr>\n",
       "  </tbody>\n",
       "</table>\n",
       "<p>40000 rows × 4 columns</p>\n",
       "</div>"
      ],
      "text/plain": [
       "       val_eta_true  val_mu_true  val_eta_pred  val_mu_pred\n",
       "0          0.289340     3.578383      0.236507     3.864950\n",
       "1          0.116476     4.999648      0.221661     3.946149\n",
       "2          0.724130     1.420453      0.559577     2.149976\n",
       "3          0.710604     1.188248      0.663752     1.674449\n",
       "4          0.691518     1.293628      0.635288     1.804378\n",
       "...             ...          ...           ...          ...\n",
       "39995      0.339272     3.285681      0.475098     2.559999\n",
       "39996      0.509901     2.245607      0.385080     3.052341\n",
       "39997      0.691510     1.614110      0.703228     1.481999\n",
       "39998      0.252738     3.516221      0.329935     3.353953\n",
       "39999      0.552016     2.394232      0.660172     1.690791\n",
       "\n",
       "[40000 rows x 4 columns]"
      ]
     },
     "execution_count": 121,
     "metadata": {},
     "output_type": "execute_result"
    }
   ],
   "source": [
    "import variables.eval_var as eval\n",
    "\n",
    "read_parquet('2023_04_27_14_29_36_MICSHPEG8GIRARD_PRED.parquet', folder=os.path.join(eval.LOGDIRUN, 'TRAINING', eval.RUN_NAME))"
   ]
  }
 ],
 "metadata": {
  "kernelspec": {
   "display_name": "Python 3",
   "language": "python",
   "name": "python3"
  },
  "language_info": {
   "codemirror_mode": {
    "name": "ipython",
    "version": 3
   },
   "file_extension": ".py",
   "mimetype": "text/x-python",
   "name": "python",
   "nbconvert_exporter": "python",
   "pygments_lexer": "ipython3",
   "version": "3.11.2"
  },
  "orig_nbformat": 4
 },
 "nbformat": 4,
 "nbformat_minor": 2
}
