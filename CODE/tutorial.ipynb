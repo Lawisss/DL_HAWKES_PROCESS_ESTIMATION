{
 "cells": [
  {
   "attachments": {},
   "cell_type": "markdown",
   "metadata": {},
   "source": [
    "## VAE Hawkes Process Estimation - Tutorial"
   ]
  },
  {
   "cell_type": "code",
   "execution_count": 1,
   "metadata": {},
   "outputs": [],
   "source": [
    "import os\n",
    "import sys\n",
    "\n",
    "import numpy as np\n",
    "import pandas as pd\n",
    "import Hawkes as hk\n",
    "from matplotlib import pyplot as plt\n",
    "\n",
    "from PREPROCESSING.hawkes import hawkes_simulations, hawkes_simulation\n",
    "from PREPROCESSING.hyperparameters import hyper_params_simulation\n",
    "from PREPROCESSING.discretisation import discretise\n",
    "import VARIABLES.variables as var\n",
    "\n",
    "%load_ext autoreload\n",
    "%autoreload 2"
   ]
  },
  {
   "attachments": {},
   "cell_type": "markdown",
   "metadata": {},
   "source": [
    "### Preprocessing"
   ]
  },
  {
   "cell_type": "code",
   "execution_count": 2,
   "metadata": {},
   "outputs": [],
   "source": [
    "# Training dataset generation\n",
    "\n",
    "# Intensity Decay Parameter (β) = U(p = 1, q = 3)\n",
    "# Branching Ratio (η) = U(a = 0.05, b = 0.8)\n",
    "# Expected Activity (E) = 500\n",
    "# Time Horizon (T) = 100\n",
    "# Interval Length (∆) = 1\n",
    "# Training processes = 100_000\n",
    "\n",
    "# Hawkes process hyper-parameters generation\n",
    "train_params, train_alpha, train_beta, train_mu = hyper_params_simulation(filename=\"train_hawkes_hyperparams.csv\")\n",
    "\n",
    "# Hawkes processes simulations\n",
    "train_simulated_events_seqs = hawkes_simulations(train_mu, train_alpha, train_beta, filename='train_hawkes_simulations.csv')\n",
    "\n",
    "# Discrétiser les processus de Hawkes\n",
    "train_discret_simulated_events_seqs = discretise(train_simulated_events_seqs, filename='train_binned_hawkes_simulations.csv')"
   ]
  },
  {
   "cell_type": "code",
   "execution_count": null,
   "metadata": {},
   "outputs": [],
   "source": [
    "# Validating dataset generation\n",
    "\n",
    "# Intensity Decay Parameter (β) = U(p = 1, q = 3)\n",
    "# Branching Ratio (η) = U(a = 0.05, b = 0.8)\n",
    "# Expected Activity (E) = 500\n",
    "# Time Horizon (T) = 100\n",
    "# Interval Length (∆) = 1\n",
    "# Training processes = 30_000\n",
    "\n",
    "# Hawkes process hyper-parameters generation\n",
    "val_params, val_alpha, val_beta, val_mu = hyper_params_simulation(filename=\"val_hawkes_hyperparams.csv\")\n",
    "# Hawkes processes simulations\n",
    "val_simulated_events_seqs = hawkes_simulations(val_mu, val_alpha, val_beta, filename='val_hawkes_simulations.csv')\n",
    "# Discrétiser les processus de Hawkes\n",
    "val_discret_simulated_events_seqs = discretise(val_simulated_events_seqs, filename='val_binned_hawkes_simulations.csv')"
   ]
  },
  {
   "cell_type": "code",
   "execution_count": null,
   "metadata": {},
   "outputs": [],
   "source": [
    "# Testing dataset generation\n",
    "\n",
    "# Intensity Decay Parameter (β) = U(p = 1, q = 3)\n",
    "# Branching Ratio (η) = U(a = 0.05, b = 0.8)\n",
    "# Expected Activity (E) = 500\n",
    "# Time Horizon (T) = 100\n",
    "# Interval Length (∆) = 1\n",
    "# Testing processes = 20_000\n",
    "\n",
    "# Hawkes process hyper-parameters generation\n",
    "test_params, test_alpha, test_beta, test_mu = hyper_params_simulation(filename=\"test_hawkes_hyperparams.csv\")\n",
    "# Hawkes processes simulations\n",
    "test_simulated_events_seqs = hawkes_simulations(test_mu, test_alpha, test_beta, filename='test_hawkes_simulations.csv')\n",
    "# Discrétiser les processus de Hawkes\n",
    "test_discret_simulated_events_seqs = discretise(test_simulated_events_seqs, filename='test_binned_hawkes_simulations.csv')"
   ]
  },
  {
   "cell_type": "code",
   "execution_count": 14,
   "metadata": {},
   "outputs": [
    {
     "name": "stdout",
     "output_type": "stream",
     "text": [
      "341 µs ± 25.9 µs per loop (mean ± std. dev. of 7 runs, 1,000 loops each)\n",
      "4 0\n"
     ]
    },
    {
     "ename": "ValueError",
     "evalue": "expecting 1 items, got 4",
     "output_type": "error",
     "traceback": [
      "\u001b[1;31m---------------------------------------------------------------------------\u001b[0m",
      "\u001b[1;31mValueError\u001b[0m                                Traceback (most recent call last)",
      "Cell \u001b[1;32mIn[14], line 70\u001b[0m\n\u001b[0;32m     66\u001b[0m         \u001b[39mreturn\u001b[39;00m np\u001b[39m.\u001b[39marray([alpha, beta, mu], dtype\u001b[39m=\u001b[39mnp\u001b[39m.\u001b[39mfloat64)\u001b[39m.\u001b[39mT, alpha, beta, mu\n\u001b[0;32m     69\u001b[0m get_ipython()\u001b[39m.\u001b[39mrun_line_magic(\u001b[39m'\u001b[39m\u001b[39mtimeit\u001b[39m\u001b[39m'\u001b[39m, \u001b[39m'\u001b[39m\u001b[39mhyper_params_simulation()\u001b[39m\u001b[39m'\u001b[39m)\n\u001b[1;32m---> 70\u001b[0m get_ipython()\u001b[39m.\u001b[39;49mrun_line_magic(\u001b[39m'\u001b[39;49m\u001b[39mtimeit\u001b[39;49m\u001b[39m'\u001b[39;49m, \u001b[39m'\u001b[39;49m\u001b[39mhyper_params_simulation2()\u001b[39;49m\u001b[39m'\u001b[39;49m)\n",
      "File \u001b[1;32m~\\AppData\\Roaming\\Python\\Python311\\site-packages\\IPython\\core\\interactiveshell.py:2414\u001b[0m, in \u001b[0;36mInteractiveShell.run_line_magic\u001b[1;34m(self, magic_name, line, _stack_depth)\u001b[0m\n\u001b[0;32m   2412\u001b[0m     kwargs[\u001b[39m'\u001b[39m\u001b[39mlocal_ns\u001b[39m\u001b[39m'\u001b[39m] \u001b[39m=\u001b[39m \u001b[39mself\u001b[39m\u001b[39m.\u001b[39mget_local_scope(stack_depth)\n\u001b[0;32m   2413\u001b[0m \u001b[39mwith\u001b[39;00m \u001b[39mself\u001b[39m\u001b[39m.\u001b[39mbuiltin_trap:\n\u001b[1;32m-> 2414\u001b[0m     result \u001b[39m=\u001b[39m fn(\u001b[39m*\u001b[39;49margs, \u001b[39m*\u001b[39;49m\u001b[39m*\u001b[39;49mkwargs)\n\u001b[0;32m   2416\u001b[0m \u001b[39m# The code below prevents the output from being displayed\u001b[39;00m\n\u001b[0;32m   2417\u001b[0m \u001b[39m# when using magics with decodator @output_can_be_silenced\u001b[39;00m\n\u001b[0;32m   2418\u001b[0m \u001b[39m# when the last Python token in the expression is a ';'.\u001b[39;00m\n\u001b[0;32m   2419\u001b[0m \u001b[39mif\u001b[39;00m \u001b[39mgetattr\u001b[39m(fn, magic\u001b[39m.\u001b[39mMAGIC_OUTPUT_CAN_BE_SILENCED, \u001b[39mFalse\u001b[39;00m):\n",
      "File \u001b[1;32m~\\AppData\\Roaming\\Python\\Python311\\site-packages\\IPython\\core\\magics\\execution.py:1170\u001b[0m, in \u001b[0;36mExecutionMagics.timeit\u001b[1;34m(self, line, cell, local_ns)\u001b[0m\n\u001b[0;32m   1168\u001b[0m \u001b[39mfor\u001b[39;00m index \u001b[39min\u001b[39;00m \u001b[39mrange\u001b[39m(\u001b[39m0\u001b[39m, \u001b[39m10\u001b[39m):\n\u001b[0;32m   1169\u001b[0m     number \u001b[39m=\u001b[39m \u001b[39m10\u001b[39m \u001b[39m*\u001b[39m\u001b[39m*\u001b[39m index\n\u001b[1;32m-> 1170\u001b[0m     time_number \u001b[39m=\u001b[39m timer\u001b[39m.\u001b[39;49mtimeit(number)\n\u001b[0;32m   1171\u001b[0m     \u001b[39mif\u001b[39;00m time_number \u001b[39m>\u001b[39m\u001b[39m=\u001b[39m \u001b[39m0.2\u001b[39m:\n\u001b[0;32m   1172\u001b[0m         \u001b[39mbreak\u001b[39;00m\n",
      "File \u001b[1;32m~\\AppData\\Roaming\\Python\\Python311\\site-packages\\IPython\\core\\magics\\execution.py:158\u001b[0m, in \u001b[0;36mTimer.timeit\u001b[1;34m(self, number)\u001b[0m\n\u001b[0;32m    156\u001b[0m gc\u001b[39m.\u001b[39mdisable()\n\u001b[0;32m    157\u001b[0m \u001b[39mtry\u001b[39;00m:\n\u001b[1;32m--> 158\u001b[0m     timing \u001b[39m=\u001b[39m \u001b[39mself\u001b[39;49m\u001b[39m.\u001b[39;49minner(it, \u001b[39mself\u001b[39;49m\u001b[39m.\u001b[39;49mtimer)\n\u001b[0;32m    159\u001b[0m \u001b[39mfinally\u001b[39;00m:\n\u001b[0;32m    160\u001b[0m     \u001b[39mif\u001b[39;00m gcold:\n",
      "File \u001b[1;32m<magic-timeit>:1\u001b[0m, in \u001b[0;36minner\u001b[1;34m(_it, _timer)\u001b[0m\n",
      "Cell \u001b[1;32mIn[14], line 48\u001b[0m, in \u001b[0;36mhyper_params_simulation2\u001b[1;34m(root, filename)\u001b[0m\n\u001b[0;32m     45\u001b[0m indices \u001b[39m=\u001b[39m np\u001b[39m.\u001b[39marray_split(\u001b[39mrange\u001b[39m(var\u001b[39m.\u001b[39mPROCESS_NUM), size)\n\u001b[0;32m     47\u001b[0m \u001b[39m# Scattered indices to all processes\u001b[39;00m\n\u001b[1;32m---> 48\u001b[0m indices \u001b[39m=\u001b[39m comm\u001b[39m.\u001b[39;49mscatter(indices, root\u001b[39m=\u001b[39;49mroot)\n\u001b[0;32m     50\u001b[0m \u001b[39m# Calculated alpha/mu vectors in parallel\u001b[39;00m\n\u001b[0;32m     51\u001b[0m alpha \u001b[39m=\u001b[39m np\u001b[39m.\u001b[39mzeros(var\u001b[39m.\u001b[39mPROCESS_NUM, dtype\u001b[39m=\u001b[39mnp\u001b[39m.\u001b[39mfloat64)\n",
      "File \u001b[1;32mmpi4py\\MPI\\Comm.pyx:1587\u001b[0m, in \u001b[0;36mmpi4py.MPI.Comm.scatter\u001b[1;34m()\u001b[0m\n",
      "File \u001b[1;32mmpi4py\\MPI\\msgpickle.pxi:823\u001b[0m, in \u001b[0;36mmpi4py.MPI.PyMPI_scatter\u001b[1;34m()\u001b[0m\n",
      "File \u001b[1;32mmpi4py\\MPI\\msgpickle.pxi:161\u001b[0m, in \u001b[0;36mmpi4py.MPI.pickle_dumpv\u001b[1;34m()\u001b[0m\n",
      "\u001b[1;31mValueError\u001b[0m: expecting 1 items, got 4"
     ]
    }
   ],
   "source": [
    "from mpi4py import MPI\n",
    "from typing import Tuple\n",
    "from UTILS.utils import write_csv\n",
    "\n",
    "def hyper_params_simulation(filename: str = \"hawkes_hyperparams.csv\") -> Tuple[np.ndarray, np.ndarray, np.ndarray, np.ndarray]:\n",
    "\n",
    "    # Generated random vectors of size PROCESS_NUM\n",
    "    epsilon = np.random.normal(var.EXPECTED_ACTIVITY, var.STD, var.PROCESS_NUM)\n",
    "    eta = np.random.uniform(var.MIN_ITV_ETA, var.MAX_ITV_ETA, var.PROCESS_NUM)\n",
    "    beta = np.random.uniform(var.MIN_ITV_BETA, var.MAX_ITV_BETA, var.PROCESS_NUM)\n",
    "\n",
    "    # Calculated alpha/mu vectors from beta/eta vectors (alpha = eta because of library exponential formula)\n",
    "    alpha = eta\n",
    "    mu = (epsilon / var.TIME_HORIZON) * (1 - eta)\n",
    "\n",
    "    # Created dictionaries list containing the parameters\n",
    "    params = list(map(lambda a, b, m: {\"alpha\": a, \"beta\": b, \"mu\": m}, alpha, beta, mu)) \n",
    "\n",
    "    # Written parameters to a CSV file \n",
    "    write_csv(params, filename=filename) \n",
    "\n",
    "    return np.array([alpha, beta, mu], dtype=np.float64).T, alpha, beta, mu\n",
    "\n",
    "\n",
    "def hyper_params_simulation2(root: int = 0, filename: str = \"hawkes_hyperparams.csv\") -> Tuple[np.ndarray, np.ndarray, np.ndarray, np.ndarray]:\n",
    "\n",
    "    # Initialized MPI\n",
    "    comm = MPI.COMM_WORLD\n",
    "    rank = comm.Get_rank()\n",
    "    size = comm.Get_size()\n",
    "\n",
    "    # Generated random vectors on root process\n",
    "    if rank == 0:\n",
    "        epsilon = np.random.normal(var.EXPECTED_ACTIVITY, var.STD, var.PROCESS_NUM)\n",
    "        eta = np.random.uniform(var.MIN_ITV_ETA, var.MAX_ITV_ETA, var.PROCESS_NUM)\n",
    "        beta = np.random.uniform(var.MIN_ITV_BETA, var.MAX_ITV_BETA, var.PROCESS_NUM)\n",
    "\n",
    "    # Broadcast random vectors to all processes\n",
    "    epsilon = comm.bcast(epsilon, root=root)\n",
    "    eta = comm.bcast(eta, root=root)\n",
    "    beta = comm.bcast(beta, root=root)\n",
    "\n",
    "    # Divided vectors indices among processes\n",
    "    indices = np.array_split(range(var.PROCESS_NUM), size)\n",
    "\n",
    "    # Scattered indices to all processes\n",
    "    indices = comm.scatter(indices, root=root)\n",
    "    \n",
    "    # Calculated alpha/mu vectors in parallel\n",
    "    alpha = np.zeros(var.PROCESS_NUM, dtype=np.float64)\n",
    "    mu = np.zeros(var.PROCESS_NUM, dtype=np.float64)\n",
    "    \n",
    "    alpha[indices] = eta[indices]\n",
    "    mu[indices] = (epsilon[indices] / var.TIME_HORIZON) * (1 - eta[indices])\n",
    "\n",
    "    # Reduced alpha/mu vectors from all processes to root process\n",
    "    comm.Reduce(alpha, np.zeros(var.PROCESS_NUM, dtype=np.float64), op=MPI.SUM, root=root)\n",
    "    comm.Reduce(mu, np.zeros(var.PROCESS_NUM, dtype=np.float64), op=MPI.SUM, root=root)\n",
    "\n",
    "    # Written CSV file on the root process\n",
    "    if rank == 0:\n",
    "        params = [{\"alpha\": a, \"beta\": b, \"mu\": m} for a, b, m in zip(alpha, beta, mu)]\n",
    "        write_csv(params, filename=filename)\n",
    "\n",
    "        return np.array([alpha, beta, mu], dtype=np.float64).T, alpha, beta, mu\n",
    "    \n",
    "\n",
    "%timeit hyper_params_simulation()\n",
    "%timeit hyper_params_simulation2()"
   ]
  },
  {
   "cell_type": "code",
   "execution_count": 13,
   "metadata": {},
   "outputs": [
    {
     "name": "stderr",
     "output_type": "stream",
     "text": [
      "Computing mean: 100%|██████████| 5/5 [00:00<00:00, 1450.01it/s]"
     ]
    },
    {
     "name": "stdout",
     "output_type": "stream",
     "text": [
      "Mean computed: [2. 5.]\n"
     ]
    },
    {
     "name": "stderr",
     "output_type": "stream",
     "text": [
      "\n"
     ]
    }
   ],
   "source": [
    "import numpy as np\n",
    "from tqdm import tqdm\n",
    "\n",
    "# données d'entrée\n",
    "X = np.array([[1, 2], [3, 4], [5, 6], [7, 8], [9, 10]])\n",
    "\n",
    "# valeur moyenne cible pour chaque colonne\n",
    "mean = np.array([2, 5])\n",
    "\n",
    "# écart-type de chaque colonne\n",
    "std = np.array([0.5, 1])\n",
    "\n",
    "# bruit aléatoire\n",
    "noise = np.random.normal(0, 0.1, size=(X.shape[0], X.shape[1]))\n",
    "\n",
    "# ajouter le bruit à X\n",
    "X_noisy = X + noise\n",
    "\n",
    "# mettre à l'échelle X_noisy avec la moyenne et l'écart-type cibles\n",
    "X_scaled = (X_noisy - np.mean(X_noisy, axis=0)) / np.std(X_noisy, axis=0) * std + mean\n",
    "\n",
    "with tqdm(total=len(X_scaled), desc=\"Computing mean\") as pbar:\n",
    "    # Calcul de la moyenne\n",
    "    mean = 0\n",
    "    for val in X_scaled:\n",
    "        mean += val\n",
    "        pbar.update(1)\n",
    "        \n",
    "    mean /= len(X_scaled)\n",
    "    # Affichage de la description et de la moyenne\n",
    "    tqdm.write(f\"Mean computed: {mean}\")\n"
   ]
  }
 ],
 "metadata": {
  "kernelspec": {
   "display_name": "Python 3",
   "language": "python",
   "name": "python3"
  },
  "language_info": {
   "codemirror_mode": {
    "name": "ipython",
    "version": 3
   },
   "file_extension": ".py",
   "mimetype": "text/x-python",
   "name": "python",
   "nbconvert_exporter": "python",
   "pygments_lexer": "ipython3",
   "version": "3.11.2"
  },
  "orig_nbformat": 4
 },
 "nbformat": 4,
 "nbformat_minor": 2
}
