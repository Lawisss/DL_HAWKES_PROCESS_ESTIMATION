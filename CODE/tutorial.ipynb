{
 "cells": [
  {
   "attachments": {},
   "cell_type": "markdown",
   "metadata": {},
   "source": [
    "## VAE Hawkes Process Estimation - Tutorial"
   ]
  },
  {
   "cell_type": "code",
   "execution_count": 102,
   "metadata": {},
   "outputs": [
    {
     "name": "stdout",
     "output_type": "stream",
     "text": [
      "The autoreload extension is already loaded. To reload it, use:\n",
      "  %reload_ext autoreload\n"
     ]
    }
   ],
   "source": [
    "import os\n",
    "\n",
    "import numpy as np\n",
    "import pandas as pd\n",
    "\n",
    "from DL.mlp_model import MLPTrainer\n",
    "from VARIABLES import preprocessing_var as prep\n",
    "from HAWKES.hawkes import hawkes_simulations, hawkes_simulation\n",
    "from HAWKES.hyperparameters import hyper_params_simulation\n",
    "from HAWKES.discretisation import discretise\n",
    "from DL.linear_model import linear_model\n",
    "from UTILS.utils import write_csv, write_parquet, read_parquet, timer, parquet_to_csv, read_csv\n",
    "from PREPROCESSING.dataset import split_data, create_datasets, create_data_loaders\n",
    "\n",
    "%load_ext autoreload\n",
    "%autoreload 2"
   ]
  },
  {
   "attachments": {},
   "cell_type": "markdown",
   "metadata": {},
   "source": [
    "### Preprocessing"
   ]
  },
  {
   "cell_type": "code",
   "execution_count": 88,
   "metadata": {},
   "outputs": [],
   "source": [
    "# Training/Validation/Testing dataset generation\n",
    "\n",
    "# Intensity Decay Parameter (β) = U(p = 1, q = 3)\n",
    "# Branching Ratio (η) = U(a = 0.05, b = 0.8)\n",
    "# Expected Activity (E) = 500\n",
    "# Time Horizon (T) = 100\n",
    "# Interval Length (∆) = 1\n",
    "# Number of processes = 160_000\n",
    "\n",
    "# Hawkes process hyper-parameters generation\n",
    "params, alpha, beta, mu = hyper_params_simulation(filename=\"hawkes_hyperparams.parquet\")\n",
    "\n",
    "# Hawkes processes simulations\n",
    "simulated_events_seqs = hawkes_simulations(alpha, beta, mu, filename='hawkes_simulations.parquet')\n",
    "\n",
    "# Discrétiser les processus de Hawkes\n",
    "discret_simulated_events_seqs = discretise(simulated_events_seqs, filename='binned_hawkes_simulations.parquet')"
   ]
  },
  {
   "cell_type": "code",
   "execution_count": 103,
   "metadata": {},
   "outputs": [],
   "source": [
    "# Data Preparation\n",
    "\n",
    "x = read_parquet(\"binned_hawkes_simulations.parquet\")\n",
    "y = read_parquet('hawkes_hyperparams.parquet')\n",
    "\n",
    "train_x, train_y, val_x, val_y, test_x, test_y = split_data(x, y.iloc[:, [0, 2]])\n",
    "train_dataset, val_dataset, test_dataset = create_datasets(train_x, train_y, val_x, val_y, test_x, test_y)\n",
    "train_loader, val_loader, test_loader = create_data_loaders(train_dataset, val_dataset, test_dataset)"
   ]
  },
  {
   "cell_type": "code",
   "execution_count": 104,
   "metadata": {},
   "outputs": [
    {
     "name": "stdout",
     "output_type": "stream",
     "text": [
      "=======================================================================================================================================================================================================================\n",
      "Layer (type:depth-idx)                   Input Shape               Output Shape              Param #                   Param %                   Kernel Shape              Mult-Adds                 Trainable\n",
      "=======================================================================================================================================================================================================================\n",
      "MLP                                      [128, 100]                [128, 2]                  --                             --                   --                        --                        True\n",
      "├─ModuleList: 1-11                       --                        --                        (recursive)               (recursive)               --                        --                        True\n",
      "│    └─Linear: 2-1                       [128, 100]                [128, 100]                10,100                     16.61%                   --                        1,292,800                 True\n",
      "├─ReLU: 1-2                              [128, 100]                [128, 100]                --                             --                   --                        --                        --\n",
      "├─ModuleList: 1-11                       --                        --                        (recursive)               (recursive)               --                        --                        True\n",
      "│    └─Linear: 2-2                       [128, 100]                [128, 100]                10,100                     16.61%                   --                        1,292,800                 True\n",
      "├─ReLU: 1-4                              [128, 100]                [128, 100]                --                        (recursive)               --                        --                        --\n",
      "├─ModuleList: 1-11                       --                        --                        (recursive)               (recursive)               --                        --                        True\n",
      "│    └─Linear: 2-3                       [128, 100]                [128, 100]                10,100                     16.61%                   --                        1,292,800                 True\n",
      "├─ReLU: 1-6                              [128, 100]                [128, 100]                --                        (recursive)               --                        --                        --\n",
      "├─ModuleList: 1-11                       --                        --                        (recursive)               (recursive)               --                        --                        True\n",
      "│    └─Linear: 2-4                       [128, 100]                [128, 100]                10,100                     16.61%                   --                        1,292,800                 True\n",
      "├─ReLU: 1-8                              [128, 100]                [128, 100]                --                        (recursive)               --                        --                        --\n",
      "├─ModuleList: 1-11                       --                        --                        (recursive)               (recursive)               --                        --                        True\n",
      "│    └─Linear: 2-5                       [128, 100]                [128, 100]                10,100                     16.61%                   --                        1,292,800                 True\n",
      "├─ReLU: 1-10                             [128, 100]                [128, 100]                --                        (recursive)               --                        --                        --\n",
      "├─ModuleList: 1-11                       --                        --                        (recursive)               (recursive)               --                        --                        True\n",
      "│    └─Linear: 2-6                       [128, 100]                [128, 100]                10,100                     16.61%                   --                        1,292,800                 True\n",
      "├─ReLU: 1-12                             [128, 100]                [128, 100]                --                        (recursive)               --                        --                        --\n",
      "├─Linear: 1-13                           [128, 100]                [128, 2]                  202                         0.33%                   --                        25,856                    True\n",
      "=======================================================================================================================================================================================================================\n",
      "Total params: 60,802\n",
      "Trainable params: 60,802\n",
      "Non-trainable params: 0\n",
      "Total mult-adds (Units.MEGABYTES): 7.78\n",
      "=======================================================================================================================================================================================================================\n",
      "Input size (MB): 0.05\n",
      "Forward/backward pass size (MB): 0.62\n",
      "Params size (MB): 0.24\n",
      "Estimated Total Size (MB): 0.91\n",
      "=======================================================================================================================================================================================================================\n",
      "             MLP               Summary\n"
     ]
    },
    {
     "name": "stderr",
     "output_type": "stream",
     "text": [
      "Epoch 103/500 - train_loss: 0.3068, val_loss: 0.2918:  21%|\u001b[32m██        \u001b[0m| 103/500 [58:30<4:06:46, 37.30s/it]"
     ]
    }
   ],
   "source": [
    "# Trained model\n",
    "\n",
    "model, train_losses, val_losses, val_y_pred, val_eta, val_mu = MLPTrainer().train_model(train_loader, val_loader, val_x, val_y)\n",
    "%load_ext tensorboard"
   ]
  },
  {
   "cell_type": "code",
   "execution_count": 86,
   "metadata": {},
   "outputs": [
    {
     "ename": "IndexError",
     "evalue": "index -9223372036854775808 is out of bounds for axis 0 with size 2",
     "output_type": "error",
     "traceback": [
      "\u001b[1;31m---------------------------------------------------------------------------\u001b[0m",
      "\u001b[1;31mIndexError\u001b[0m                                Traceback (most recent call last)",
      "Cell \u001b[1;32mIn[86], line 3\u001b[0m\n\u001b[0;32m      1\u001b[0m \u001b[39m# Tested model\u001b[39;00m\n\u001b[1;32m----> 3\u001b[0m test_y_pred, test_loss, test_eta, test_mu \u001b[39m=\u001b[39m MLPTrainer()\u001b[39m.\u001b[39;49mtest_model(test_loader, test_y)\n\u001b[0;32m      4\u001b[0m get_ipython()\u001b[39m.\u001b[39mrun_line_magic(\u001b[39m'\u001b[39m\u001b[39mload_ext\u001b[39m\u001b[39m'\u001b[39m, \u001b[39m'\u001b[39m\u001b[39mtensorboard\u001b[39m\u001b[39m'\u001b[39m)\n",
      "File \u001b[1;32mc:\\Users\\Nicolas Girard\\Documents\\VAE_HAWKES_PROCESS_ESTIMATION\\CODE\\UTILS\\utils.py:352\u001b[0m, in \u001b[0;36mprofiling.<locals>.prof_decorator.<locals>.wrapper\u001b[1;34m(*args, **kwargs)\u001b[0m\n\u001b[0;32m    349\u001b[0m         writer\u001b[39m.\u001b[39mclose()\n\u001b[0;32m    350\u001b[0m \u001b[39melse\u001b[39;00m:\n\u001b[0;32m    351\u001b[0m     \u001b[39m# No profiling\u001b[39;00m\n\u001b[1;32m--> 352\u001b[0m     result \u001b[39m=\u001b[39m func(\u001b[39m*\u001b[39;49margs, \u001b[39m*\u001b[39;49m\u001b[39m*\u001b[39;49mkwargs)\n\u001b[0;32m    354\u001b[0m \u001b[39mreturn\u001b[39;00m result\n",
      "File \u001b[1;32mc:\\Users\\Nicolas Girard\\AppData\\Local\\Programs\\Python\\Python311\\Lib\\site-packages\\torch\\utils\\_contextlib.py:115\u001b[0m, in \u001b[0;36mcontext_decorator.<locals>.decorate_context\u001b[1;34m(*args, **kwargs)\u001b[0m\n\u001b[0;32m    112\u001b[0m \u001b[39m@functools\u001b[39m\u001b[39m.\u001b[39mwraps(func)\n\u001b[0;32m    113\u001b[0m \u001b[39mdef\u001b[39;00m \u001b[39mdecorate_context\u001b[39m(\u001b[39m*\u001b[39margs, \u001b[39m*\u001b[39m\u001b[39m*\u001b[39mkwargs):\n\u001b[0;32m    114\u001b[0m     \u001b[39mwith\u001b[39;00m ctx_factory():\n\u001b[1;32m--> 115\u001b[0m         \u001b[39mreturn\u001b[39;00m func(\u001b[39m*\u001b[39;49margs, \u001b[39m*\u001b[39;49m\u001b[39m*\u001b[39;49mkwargs)\n",
      "File \u001b[1;32mc:\\Users\\Nicolas Girard\\Documents\\VAE_HAWKES_PROCESS_ESTIMATION\\CODE\\DL\\mlp_model.py:404\u001b[0m, in \u001b[0;36mMLPTrainer.test_model\u001b[1;34m(self, test_loader, test_y, dtype, folder)\u001b[0m\n\u001b[0;32m    402\u001b[0m \u001b[39m# Added results histograms to TensorBoard\u001b[39;00m\n\u001b[0;32m    403\u001b[0m writer\u001b[39m.\u001b[39madd_histogram(\u001b[39m\"\u001b[39m\u001b[39mBaseline intensity Histogram\u001b[39m\u001b[39m\"\u001b[39m, test_y_pred[:, \u001b[39m1\u001b[39m][index], index, bins\u001b[39m=\u001b[39m\u001b[39m\"\u001b[39m\u001b[39mauto\u001b[39m\u001b[39m\"\u001b[39m)\n\u001b[1;32m--> 404\u001b[0m writer\u001b[39m.\u001b[39;49madd_histogram(\u001b[39m\"\u001b[39;49m\u001b[39mBranching ratio Histogram\u001b[39;49m\u001b[39m\"\u001b[39;49m, test_y_pred[:, \u001b[39m0\u001b[39;49m][index], index, bins\u001b[39m=\u001b[39;49m\u001b[39m\"\u001b[39;49m\u001b[39mauto\u001b[39;49m\u001b[39m\"\u001b[39;49m)\n\u001b[0;32m    405\u001b[0m writer\u001b[39m.\u001b[39madd_histogram(\u001b[39m\"\u001b[39m\u001b[39mPrediction Histogram\u001b[39m\u001b[39m\"\u001b[39m, test_y_pred[index], index, bins\u001b[39m=\u001b[39m\u001b[39m\"\u001b[39m\u001b[39mauto\u001b[39m\u001b[39m\"\u001b[39m)\n\u001b[0;32m    406\u001b[0m writer\u001b[39m.\u001b[39madd_histogram(\u001b[39m\"\u001b[39m\u001b[39mValidation Histogram\u001b[39m\u001b[39m\"\u001b[39m, test_y[index], index, bins\u001b[39m=\u001b[39m\u001b[39m\"\u001b[39m\u001b[39mauto\u001b[39m\u001b[39m\"\u001b[39m)\n",
      "File \u001b[1;32mc:\\Users\\Nicolas Girard\\AppData\\Local\\Programs\\Python\\Python311\\Lib\\site-packages\\torch\\utils\\tensorboard\\writer.py:485\u001b[0m, in \u001b[0;36mSummaryWriter.add_histogram\u001b[1;34m(self, tag, values, global_step, bins, walltime, max_bins)\u001b[0m\n\u001b[0;32m    482\u001b[0m \u001b[39mif\u001b[39;00m \u001b[39misinstance\u001b[39m(bins, \u001b[39mstr\u001b[39m) \u001b[39mand\u001b[39;00m bins \u001b[39m==\u001b[39m \u001b[39m\"\u001b[39m\u001b[39mtensorflow\u001b[39m\u001b[39m\"\u001b[39m:\n\u001b[0;32m    483\u001b[0m     bins \u001b[39m=\u001b[39m \u001b[39mself\u001b[39m\u001b[39m.\u001b[39mdefault_bins\n\u001b[0;32m    484\u001b[0m \u001b[39mself\u001b[39m\u001b[39m.\u001b[39m_get_file_writer()\u001b[39m.\u001b[39madd_summary(\n\u001b[1;32m--> 485\u001b[0m     histogram(tag, values, bins, max_bins\u001b[39m=\u001b[39;49mmax_bins), global_step, walltime\n\u001b[0;32m    486\u001b[0m )\n",
      "File \u001b[1;32mc:\\Users\\Nicolas Girard\\AppData\\Local\\Programs\\Python\\Python311\\Lib\\site-packages\\torch\\utils\\tensorboard\\summary.py:355\u001b[0m, in \u001b[0;36mhistogram\u001b[1;34m(name, values, bins, max_bins)\u001b[0m\n\u001b[0;32m    340\u001b[0m \u001b[39m\u001b[39m\u001b[39m\"\"\"Outputs a `Summary` protocol buffer with a histogram.\u001b[39;00m\n\u001b[0;32m    341\u001b[0m \u001b[39mThe generated\u001b[39;00m\n\u001b[0;32m    342\u001b[0m \u001b[39m[`Summary`](https://www.tensorflow.org/code/tensorflow/core/framework/summary.proto)\u001b[39;00m\n\u001b[1;32m   (...)\u001b[0m\n\u001b[0;32m    352\u001b[0m \u001b[39m  buffer.\u001b[39;00m\n\u001b[0;32m    353\u001b[0m \u001b[39m\"\"\"\u001b[39;00m\n\u001b[0;32m    354\u001b[0m values \u001b[39m=\u001b[39m make_np(values)\n\u001b[1;32m--> 355\u001b[0m hist \u001b[39m=\u001b[39m make_histogram(values\u001b[39m.\u001b[39;49mastype(\u001b[39mfloat\u001b[39;49m), bins, max_bins)\n\u001b[0;32m    356\u001b[0m \u001b[39mreturn\u001b[39;00m Summary(value\u001b[39m=\u001b[39m[Summary\u001b[39m.\u001b[39mValue(tag\u001b[39m=\u001b[39mname, histo\u001b[39m=\u001b[39mhist)])\n",
      "File \u001b[1;32mc:\\Users\\Nicolas Girard\\AppData\\Local\\Programs\\Python\\Python311\\Lib\\site-packages\\torch\\utils\\tensorboard\\summary.py:364\u001b[0m, in \u001b[0;36mmake_histogram\u001b[1;34m(values, bins, max_bins)\u001b[0m\n\u001b[0;32m    362\u001b[0m     \u001b[39mraise\u001b[39;00m \u001b[39mValueError\u001b[39;00m(\u001b[39m\"\u001b[39m\u001b[39mThe input has no element.\u001b[39m\u001b[39m\"\u001b[39m)\n\u001b[0;32m    363\u001b[0m values \u001b[39m=\u001b[39m values\u001b[39m.\u001b[39mreshape(\u001b[39m-\u001b[39m\u001b[39m1\u001b[39m)\n\u001b[1;32m--> 364\u001b[0m counts, limits \u001b[39m=\u001b[39m np\u001b[39m.\u001b[39;49mhistogram(values, bins\u001b[39m=\u001b[39;49mbins)\n\u001b[0;32m    365\u001b[0m num_bins \u001b[39m=\u001b[39m \u001b[39mlen\u001b[39m(counts)\n\u001b[0;32m    366\u001b[0m \u001b[39mif\u001b[39;00m max_bins \u001b[39mis\u001b[39;00m \u001b[39mnot\u001b[39;00m \u001b[39mNone\u001b[39;00m \u001b[39mand\u001b[39;00m num_bins \u001b[39m>\u001b[39m max_bins:\n",
      "File \u001b[1;32m<__array_function__ internals>:180\u001b[0m, in \u001b[0;36mhistogram\u001b[1;34m(*args, **kwargs)\u001b[0m\n",
      "File \u001b[1;32mc:\\Users\\Nicolas Girard\\AppData\\Local\\Programs\\Python\\Python311\\Lib\\site-packages\\numpy\\lib\\histograms.py:857\u001b[0m, in \u001b[0;36mhistogram\u001b[1;34m(a, bins, range, normed, weights, density)\u001b[0m\n\u001b[0;32m    853\u001b[0m indices[indices \u001b[39m==\u001b[39m n_equal_bins] \u001b[39m-\u001b[39m\u001b[39m=\u001b[39m \u001b[39m1\u001b[39m\n\u001b[0;32m    855\u001b[0m \u001b[39m# The index computation is not guaranteed to give exactly\u001b[39;00m\n\u001b[0;32m    856\u001b[0m \u001b[39m# consistent results within ~1 ULP of the bin edges.\u001b[39;00m\n\u001b[1;32m--> 857\u001b[0m decrement \u001b[39m=\u001b[39m tmp_a \u001b[39m<\u001b[39m bin_edges[indices]\n\u001b[0;32m    858\u001b[0m indices[decrement] \u001b[39m-\u001b[39m\u001b[39m=\u001b[39m \u001b[39m1\u001b[39m\n\u001b[0;32m    859\u001b[0m \u001b[39m# The last bin includes the right edge. The other bins do not.\u001b[39;00m\n",
      "\u001b[1;31mIndexError\u001b[0m: index -9223372036854775808 is out of bounds for axis 0 with size 2"
     ]
    }
   ],
   "source": [
    "# Tested model\n",
    "\n",
    "test_y_pred, test_loss, test_eta, test_mu = MLPTrainer().test_model(test_loader, test_y)\n",
    "%load_ext tensorboard"
   ]
  },
  {
   "cell_type": "code",
   "execution_count": 41,
   "metadata": {},
   "outputs": [
    {
     "ename": "AttributeError",
     "evalue": "'MLP' object has no attribute 'predict'",
     "output_type": "error",
     "traceback": [
      "\u001b[1;31m---------------------------------------------------------------------------\u001b[0m",
      "\u001b[1;31mAttributeError\u001b[0m                            Traceback (most recent call last)",
      "Cell \u001b[1;32mIn[41], line 3\u001b[0m\n\u001b[0;32m      1\u001b[0m \u001b[39m# α and β estimation (linear model)\u001b[39;00m\n\u001b[1;32m----> 3\u001b[0m param_pred, alpha_pred, beta_pred, mu_pred, eta_pred \u001b[39m=\u001b[39m linear_model(model, train_x, val_x, y, step_size\u001b[39m=\u001b[39;49m\u001b[39m0.05\u001b[39;49m, filename\u001b[39m=\u001b[39;49m\u001b[39m\"\u001b[39;49m\u001b[39malpha_beta_linear_estimation.parquet\u001b[39;49m\u001b[39m\"\u001b[39;49m)\n",
      "File \u001b[1;32mc:\\Users\\Nicolas Girard\\Documents\\VAE_HAWKES_PROCESS_ESTIMATION\\CODE\\DL\\linear_model.py:37\u001b[0m, in \u001b[0;36mlinear_model\u001b[1;34m(model, train_x, val_x, params, step_size, filename)\u001b[0m\n\u001b[0;32m     21\u001b[0m \u001b[39m\u001b[39m\u001b[39m\"\"\"\u001b[39;00m\n\u001b[0;32m     22\u001b[0m \u001b[39mCalculates predicted alpha/beta values using linear regression\u001b[39;00m\n\u001b[0;32m     23\u001b[0m \n\u001b[1;32m   (...)\u001b[0m\n\u001b[0;32m     33\u001b[0m \u001b[39m    dict: Predicted alpha/beta values, validation set mu and eta median\u001b[39;00m\n\u001b[0;32m     34\u001b[0m \u001b[39m\"\"\"\u001b[39;00m\n\u001b[0;32m     36\u001b[0m \u001b[39m# Predicted validation set values\u001b[39;00m\n\u001b[1;32m---> 37\u001b[0m val_y_pred \u001b[39m=\u001b[39m model\u001b[39m.\u001b[39;49mpredict(val_x)\n\u001b[0;32m     39\u001b[0m \u001b[39m#Calculated validation set eta and mu median\u001b[39;00m\n\u001b[0;32m     40\u001b[0m val_eta \u001b[39m=\u001b[39m np\u001b[39m.\u001b[39mmedian(val_y_pred[:, \u001b[39m0\u001b[39m])\n",
      "File \u001b[1;32mc:\\Users\\Nicolas Girard\\AppData\\Local\\Programs\\Python\\Python311\\Lib\\site-packages\\torch\\nn\\modules\\module.py:1614\u001b[0m, in \u001b[0;36mModule.__getattr__\u001b[1;34m(self, name)\u001b[0m\n\u001b[0;32m   1612\u001b[0m     \u001b[39mif\u001b[39;00m name \u001b[39min\u001b[39;00m modules:\n\u001b[0;32m   1613\u001b[0m         \u001b[39mreturn\u001b[39;00m modules[name]\n\u001b[1;32m-> 1614\u001b[0m \u001b[39mraise\u001b[39;00m \u001b[39mAttributeError\u001b[39;00m(\u001b[39m\"\u001b[39m\u001b[39m'\u001b[39m\u001b[39m{}\u001b[39;00m\u001b[39m'\u001b[39m\u001b[39m object has no attribute \u001b[39m\u001b[39m'\u001b[39m\u001b[39m{}\u001b[39;00m\u001b[39m'\u001b[39m\u001b[39m\"\u001b[39m\u001b[39m.\u001b[39mformat(\n\u001b[0;32m   1615\u001b[0m     \u001b[39mtype\u001b[39m(\u001b[39mself\u001b[39m)\u001b[39m.\u001b[39m\u001b[39m__name__\u001b[39m, name))\n",
      "\u001b[1;31mAttributeError\u001b[0m: 'MLP' object has no attribute 'predict'"
     ]
    }
   ],
   "source": [
    "# α and β estimation (linear model)\n",
    "\n",
    "param_pred, alpha_pred, beta_pred, mu_pred, eta_pred = linear_model(model, train_x, val_x, y, step_size=0.05, filename=\"alpha_beta_linear_estimation.parquet\")"
   ]
  },
  {
   "cell_type": "code",
   "execution_count": null,
   "metadata": {},
   "outputs": [],
   "source": [
    "# Tests and comparison (Testing Effects of Parameters = β, η, ∆, E)\n",
    "\n",
    "# Intensity Decay Parameter (β) = U(p = 1, q = 3)\n",
    "# Branching Ratio (η) = U(a = 0.2, b = 0.6)\n",
    "# Expected Activity (E) = 500\n",
    "# Time Horizon (T) = 100\n",
    "# Interval Length (∆) = 1\n",
    "# Number of processes = 200\n",
    "# Number of tests = 100\n",
    "\n",
    "# Intensity Decay Parameter (β) | Branching Ratio (η) | Interval Length (∆) | Expected Activity (E)\n",
    "                                                                   \n",
    "#          [0.5,2.5]                   [0.1,0.4]               0.25                   50\n",
    "#         [1.75,3.75]                  [0.3,0.6]               0.5                    100\n",
    "#            [3,5]                     [0.5,0.8]                1                     250\n",
    "#           [0.5,3]                    [0.1,0.6]                2                     500\n",
    "#           [1.5,4]                    [0.2,0.7]                5                     1000\n",
    "#           [2.5,5]                    [0.3,0.8]\n",
    "#           [0.5,4]                    [0.05,0.6]\n",
    "#           [1.5,5]                    [0.05,0.7]\n",
    "#           [0.5,5]                    [0.05,0.8]\n",
    "\n",
    "# Hawkes process hyper-parameters generation\n",
    "params, alpha, beta, mu = hyper_params_simulation(filename=\"hawkes_hyperparams.parquet\")\n",
    "\n",
    "# Hawkes processes simulations\n",
    "simulated_events_seqs = hawkes_simulations(alpha, beta, mu, filename='hawkes_simulations.parquet')\n",
    "\n",
    "# Discrétiser les processus de Hawkes\n",
    "discret_simulated_events_seqs = discretise(simulated_events_seqs, filename='binned_hawkes_simulations.parquet')"
   ]
  },
  {
   "cell_type": "code",
   "execution_count": 82,
   "metadata": {},
   "outputs": [
    {
     "data": {
      "text/html": [
       "<div>\n",
       "<style scoped>\n",
       "    .dataframe tbody tr th:only-of-type {\n",
       "        vertical-align: middle;\n",
       "    }\n",
       "\n",
       "    .dataframe tbody tr th {\n",
       "        vertical-align: top;\n",
       "    }\n",
       "\n",
       "    .dataframe thead th {\n",
       "        text-align: right;\n",
       "    }\n",
       "</style>\n",
       "<table border=\"1\" class=\"dataframe\">\n",
       "  <thead>\n",
       "    <tr style=\"text-align: right;\">\n",
       "      <th></th>\n",
       "      <th>eta_pred</th>\n",
       "      <th>mu_pred</th>\n",
       "    </tr>\n",
       "  </thead>\n",
       "  <tbody>\n",
       "    <tr>\n",
       "      <th>0</th>\n",
       "      <td>-0.065830</td>\n",
       "      <td>0.046629</td>\n",
       "    </tr>\n",
       "    <tr>\n",
       "      <th>1</th>\n",
       "      <td>-0.056259</td>\n",
       "      <td>0.039393</td>\n",
       "    </tr>\n",
       "    <tr>\n",
       "      <th>2</th>\n",
       "      <td>-0.060766</td>\n",
       "      <td>0.043779</td>\n",
       "    </tr>\n",
       "    <tr>\n",
       "      <th>3</th>\n",
       "      <td>-0.070831</td>\n",
       "      <td>0.048243</td>\n",
       "    </tr>\n",
       "    <tr>\n",
       "      <th>4</th>\n",
       "      <td>-0.071235</td>\n",
       "      <td>0.050185</td>\n",
       "    </tr>\n",
       "    <tr>\n",
       "      <th>...</th>\n",
       "      <td>...</td>\n",
       "      <td>...</td>\n",
       "    </tr>\n",
       "    <tr>\n",
       "      <th>19995</th>\n",
       "      <td>0.074519</td>\n",
       "      <td>-0.004056</td>\n",
       "    </tr>\n",
       "    <tr>\n",
       "      <th>19996</th>\n",
       "      <td>-0.006365</td>\n",
       "      <td>0.098093</td>\n",
       "    </tr>\n",
       "    <tr>\n",
       "      <th>19997</th>\n",
       "      <td>-0.021207</td>\n",
       "      <td>0.078864</td>\n",
       "    </tr>\n",
       "    <tr>\n",
       "      <th>19998</th>\n",
       "      <td>0.076063</td>\n",
       "      <td>-0.043015</td>\n",
       "    </tr>\n",
       "    <tr>\n",
       "      <th>19999</th>\n",
       "      <td>-0.050445</td>\n",
       "      <td>-0.022275</td>\n",
       "    </tr>\n",
       "  </tbody>\n",
       "</table>\n",
       "<p>20000 rows × 2 columns</p>\n",
       "</div>"
      ],
      "text/plain": [
       "       eta_pred   mu_pred\n",
       "0     -0.065830  0.046629\n",
       "1     -0.056259  0.039393\n",
       "2     -0.060766  0.043779\n",
       "3     -0.070831  0.048243\n",
       "4     -0.071235  0.050185\n",
       "...         ...       ...\n",
       "19995  0.074519 -0.004056\n",
       "19996 -0.006365  0.098093\n",
       "19997 -0.021207  0.078864\n",
       "19998  0.076063 -0.043015\n",
       "19999 -0.050445 -0.022275\n",
       "\n",
       "[20000 rows x 2 columns]"
      ]
     },
     "execution_count": 82,
     "metadata": {},
     "output_type": "execute_result"
    }
   ],
   "source": [
    "import VARIABLES.evaluation_var as eval\n",
    "\n",
    "read_parquet('2023_04_27_14_29_36_MICSHPEG8GIRARD.parquet', folder=os.path.join(eval.LOGDIRUN, 'TESTING', eval.RUN_NAME))"
   ]
  }
 ],
 "metadata": {
  "kernelspec": {
   "display_name": "Python 3",
   "language": "python",
   "name": "python3"
  },
  "language_info": {
   "codemirror_mode": {
    "name": "ipython",
    "version": 3
   },
   "file_extension": ".py",
   "mimetype": "text/x-python",
   "name": "python",
   "nbconvert_exporter": "python",
   "pygments_lexer": "ipython3",
   "version": "3.11.2"
  },
  "orig_nbformat": 4
 },
 "nbformat": 4,
 "nbformat_minor": 2
}
