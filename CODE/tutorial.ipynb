{
 "cells": [
  {
   "attachments": {},
   "cell_type": "markdown",
   "metadata": {},
   "source": [
    "## VAE Hawkes Process Estimation - Tutorial"
   ]
  },
  {
   "cell_type": "code",
   "execution_count": 130,
   "metadata": {},
   "outputs": [
    {
     "name": "stdout",
     "output_type": "stream",
     "text": [
      "The autoreload extension is already loaded. To reload it, use:\n",
      "  %reload_ext autoreload\n"
     ]
    }
   ],
   "source": [
    "from HAWKES.hawkes import hawkes_simulations, hawkes_simulation\n",
    "from HAWKES.hyperparameters import hyper_params_simulation\n",
    "from HAWKES.discretisation import discretise\n",
    "from UTILS.utils import write_parquet, read_parquet\n",
    "\n",
    "%load_ext autoreload\n",
    "%autoreload 2"
   ]
  },
  {
   "attachments": {},
   "cell_type": "markdown",
   "metadata": {},
   "source": [
    "### Preprocessing"
   ]
  },
  {
   "cell_type": "code",
   "execution_count": 131,
   "metadata": {},
   "outputs": [],
   "source": [
    "# Training/Validation/Testing dataset generation\n",
    "\n",
    "# Intensity Decay Parameter (β) = U(p = 1, q = 3)\n",
    "# Branching Ratio (η) = U(a = 0.05, b = 0.8)\n",
    "# Expected Activity (E) = 500\n",
    "# Time Horizon (T) = 100\n",
    "# Interval Length (∆) = 1\n",
    "# Number of processes = 160_000\n",
    "\n",
    "# Hawkes process hyper-parameters generation\n",
    "params, alpha, beta, mu = hyper_params_simulation(filename=\"hawkes_hyperparams.parquet\")\n",
    "\n",
    "# Hawkes processes simulations\n",
    "simulated_events_seqs = hawkes_simulations(mu, alpha, beta, filename='hawkes_simulations.parquet')\n",
    "\n",
    "# Discrétiser les processus de Hawkes\n",
    "discret_simulated_events_seqs = discretise(simulated_events_seqs, filename='binned_hawkes_simulations.parquet')"
   ]
  },
  {
   "cell_type": "code",
   "execution_count": 127,
   "metadata": {},
   "outputs": [
    {
     "name": "stdout",
     "output_type": "stream",
     "text": [
      "Hyper-parameters generation: 0.002 seconds\n",
      "Hawkes process simulations: 0.015 seconds\n",
      "Discretisation of the events: 0.002 seconds\n",
      "Total execution time: 0.019 seconds\n"
     ]
    }
   ],
   "source": [
    "import time\n",
    "\n",
    "# Start timer\n",
    "start_total = time.perf_counter()\n",
    "\n",
    "# Hawkes process hyper-parameters generation\n",
    "start_params = time.perf_counter()\n",
    "params, alpha, beta, mu = hyper_params_simulation(filename=\"hawkes_hyperparams.parquet\")\n",
    "end_params = time.perf_counter()\n",
    "time_params = end_params - start_params\n",
    "\n",
    "# Hawkes processes simulations\n",
    "start_simulations = time.perf_counter()\n",
    "simulated_events_seqs = hawkes_simulations(mu, alpha, beta, filename='hawkes_simulations.parquet')\n",
    "end_simulations = time.perf_counter()\n",
    "time_simulations = end_simulations - start_simulations\n",
    "\n",
    "# Discretisation of the simulated events\n",
    "start_discretisation = time.perf_counter()\n",
    "discret_simulated_events_seqs = discretise(simulated_events_seqs, filename='binned_hawkes_simulations.parquet')\n",
    "end_discretisation = time.perf_counter()\n",
    "time_discretisation = end_discretisation - start_discretisation\n",
    "\n",
    "# End timer\n",
    "end_total = time.perf_counter()\n",
    "time_total = end_total - start_total\n",
    "\n",
    "# Print times\n",
    "print(f\"Hyper-parameters generation: {time_params:.3f} seconds\")\n",
    "print(f\"Hawkes process simulations: {time_simulations:.3f} seconds\")\n",
    "print(f\"Discretisation of the events: {time_discretisation:.3f} seconds\")\n",
    "print(f\"Total execution time: {time_total:.3f} seconds\")\n"
   ]
  },
  {
   "cell_type": "code",
   "execution_count": 158,
   "metadata": {},
   "outputs": [
    {
     "data": {
      "text/plain": [
       "array(['0', '1', '2', '3', '4', '5', '6', '7', '8', '9', '10', '11', '12',\n",
       "       '13', '14', '15', '16', '17', '18', '19', '20', '21', '22', '23',\n",
       "       '24', '25', '26', '27', '28', '29', '30', '31', '32', '33', '34',\n",
       "       '35', '36', '37', '38', '39', '40', '41', '42', '43', '44', '45',\n",
       "       '46', '47', '48', '49', '50', '51', '52', '53', '54', '55', '56',\n",
       "       '57', '58', '59', '60', '61', '62', '63', '64', '65', '66', '67',\n",
       "       '68', '69', '70', '71', '72', '73', '74', '75', '76', '77', '78',\n",
       "       '79', '80', '81', '82', '83', '84', '85', '86', '87', '88', '89',\n",
       "       '90', '91', '92', '93', '94', '95', '96', '97', '98', '99'],\n",
       "      dtype='<U11')"
      ]
     },
     "execution_count": 158,
     "metadata": {},
     "output_type": "execute_result"
    }
   ],
   "source": [
    "import numpy as np\n",
    "\n",
    "columns = np.arange(hwk.TIME_HORIZON, dtype=np.int32).astype(str)\n",
    "columns"
   ]
  },
  {
   "cell_type": "code",
   "execution_count": 178,
   "metadata": {},
   "outputs": [
    {
     "name": "stdout",
     "output_type": "stream",
     "text": [
      "Total execution time n°1: 0.000093 seconds\n",
      "Total execution time n°2: 0.000062 seconds\n",
      "Total execution time n°3: 0.000092 seconds\n"
     ]
    }
   ],
   "source": [
    "import numpy as np\n",
    "import pandas as pd\n",
    "\n",
    "# Paramètres de simulation\n",
    "process_num = 160000\n",
    "time_horizon = 100\n",
    "# Génération de données simulées\n",
    "data = np.random.randn(process_num, time_horizon)\n",
    "\n",
    "start_1 = time.perf_counter()\n",
    "columns = np.arange(time_horizon).astype(str)\n",
    "end_1 = time.perf_counter()\n",
    "total_1 = end_1 - start_1\n",
    "\n",
    "start_2 = time.perf_counter()\n",
    "columns = np.arange(hwk.TIME_HORIZON, dtype=np.int32).astype(str)\n",
    "end_2 = time.perf_counter()\n",
    "total_2 = end_2 - start_2\n",
    "\n",
    "start_3 = time.perf_counter()\n",
    "columns = np.char.mod('%d', np.arange(time_horizon))\n",
    "end_3 = time.perf_counter()\n",
    "total_3 = end_3 - start_3\n",
    "\n",
    "\n",
    "# Création du DataFrame\n",
    "df = pd.DataFrame(data, columns=columns, dtype=np.float32)\n",
    "\n",
    "# Affichage des premières lignes du DataFrame\n",
    "print(f\"Total execution time n°1: {total_1:.6f} seconds\")\n",
    "print(f\"Total execution time n°2: {total_2:.6f} seconds\")\n",
    "print(f\"Total execution time n°3: {total_3:.6f} seconds\")"
   ]
  },
  {
   "cell_type": "code",
   "execution_count": 129,
   "metadata": {},
   "outputs": [
    {
     "data": {
      "text/html": [
       "<div>\n",
       "<style scoped>\n",
       "    .dataframe tbody tr th:only-of-type {\n",
       "        vertical-align: middle;\n",
       "    }\n",
       "\n",
       "    .dataframe tbody tr th {\n",
       "        vertical-align: top;\n",
       "    }\n",
       "\n",
       "    .dataframe thead th {\n",
       "        text-align: right;\n",
       "    }\n",
       "</style>\n",
       "<table border=\"1\" class=\"dataframe\">\n",
       "  <thead>\n",
       "    <tr style=\"text-align: right;\">\n",
       "      <th></th>\n",
       "      <th>0</th>\n",
       "      <th>1</th>\n",
       "      <th>2</th>\n",
       "      <th>3</th>\n",
       "      <th>4</th>\n",
       "    </tr>\n",
       "  </thead>\n",
       "  <tbody>\n",
       "    <tr>\n",
       "      <th>0</th>\n",
       "      <td>0.008824</td>\n",
       "      <td>0.015973</td>\n",
       "      <td>0.030029</td>\n",
       "      <td>0.032040</td>\n",
       "      <td>0.070994</td>\n",
       "    </tr>\n",
       "    <tr>\n",
       "      <th>1</th>\n",
       "      <td>0.002417</td>\n",
       "      <td>0.031233</td>\n",
       "      <td>0.037525</td>\n",
       "      <td>0.062274</td>\n",
       "      <td>0.079062</td>\n",
       "    </tr>\n",
       "    <tr>\n",
       "      <th>2</th>\n",
       "      <td>0.013975</td>\n",
       "      <td>0.019324</td>\n",
       "      <td>0.034401</td>\n",
       "      <td>0.035873</td>\n",
       "      <td>0.038397</td>\n",
       "    </tr>\n",
       "  </tbody>\n",
       "</table>\n",
       "</div>"
      ],
      "text/plain": [
       "          0         1         2         3         4\n",
       "0  0.008824  0.015973  0.030029  0.032040  0.070994\n",
       "1  0.002417  0.031233  0.037525  0.062274  0.079062\n",
       "2  0.013975  0.019324  0.034401  0.035873  0.038397"
      ]
     },
     "execution_count": 129,
     "metadata": {},
     "output_type": "execute_result"
    }
   ],
   "source": [
    "read_parquet(\"hawkes_simulations.parquet\")"
   ]
  }
 ],
 "metadata": {
  "kernelspec": {
   "display_name": "Python 3",
   "language": "python",
   "name": "python3"
  },
  "language_info": {
   "codemirror_mode": {
    "name": "ipython",
    "version": 3
   },
   "file_extension": ".py",
   "mimetype": "text/x-python",
   "name": "python",
   "nbconvert_exporter": "python",
   "pygments_lexer": "ipython3",
   "version": "3.11.2"
  },
  "orig_nbformat": 4
 },
 "nbformat": 4,
 "nbformat_minor": 2
}
