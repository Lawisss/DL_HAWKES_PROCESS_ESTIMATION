{
 "cells": [
  {
   "attachments": {},
   "cell_type": "markdown",
   "metadata": {},
   "source": [
    "## VAE Hawkes Process Estimation - Tutorial"
   ]
  },
  {
   "cell_type": "code",
   "execution_count": 48,
   "metadata": {},
   "outputs": [
    {
     "name": "stdout",
     "output_type": "stream",
     "text": [
      "The autoreload extension is already loaded. To reload it, use:\n",
      "  %reload_ext autoreload\n"
     ]
    }
   ],
   "source": [
    "import os\n",
    "\n",
    "import numpy as np\n",
    "import pandas as pd\n",
    "\n",
    "from DL.mlp_model import MLPTrainer\n",
    "from VARIABLES import preprocessing_var as prep\n",
    "from HAWKES.hawkes import hawkes_simulations, hawkes_simulation\n",
    "from HAWKES.hyperparameters import hyper_params_simulation\n",
    "from HAWKES.discretisation import discretise\n",
    "from UTILS.utils import write_csv, write_parquet, read_parquet, timer\n",
    "from PREPROCESSING.dataset import split_data, create_datasets, create_data_loaders\n",
    "\n",
    "%load_ext autoreload\n",
    "%autoreload 2"
   ]
  },
  {
   "attachments": {},
   "cell_type": "markdown",
   "metadata": {},
   "source": [
    "### Preprocessing"
   ]
  },
  {
   "cell_type": "code",
   "execution_count": 19,
   "metadata": {},
   "outputs": [],
   "source": [
    "# Training/Validation/Testing dataset generation\n",
    "\n",
    "# Intensity Decay Parameter (β) = U(p = 1, q = 3)\n",
    "# Branching Ratio (η) = U(a = 0.05, b = 0.8)\n",
    "# Expected Activity (E) = 500\n",
    "# Time Horizon (T) = 100\n",
    "# Interval Length (∆) = 1\n",
    "# Number of processes = 160_000\n",
    "\n",
    "# Hawkes process hyper-parameters generation\n",
    "params, alpha, beta, mu = hyper_params_simulation(filename=\"hawkes_hyperparams.parquet\")\n",
    "\n",
    "# Hawkes processes simulations\n",
    "simulated_events_seqs = hawkes_simulations(alpha, beta, mu, filename='hawkes_simulations.parquet')\n",
    "\n",
    "# Discrétiser les processus de Hawkes\n",
    "discret_simulated_events_seqs = discretise(simulated_events_seqs, filename='binned_hawkes_simulations.parquet')"
   ]
  },
  {
   "cell_type": "code",
   "execution_count": 34,
   "metadata": {},
   "outputs": [],
   "source": [
    "# Data Preparation\n",
    "\n",
    "x = read_parquet(\"binned_hawkes_simulations.parquet\")\n",
    "y = read_parquet('hawkes_hyperparams.parquet')\n",
    "\n",
    "train_x, train_y, val_x, val_y, test_x, test_y = split_data(x, y.iloc[:, [0, 2]])\n",
    "train_dataset, val_dataset, test_dataset = create_datasets(train_x, train_y, val_x, val_y, test_x, test_y)\n",
    "train_loader, val_loader, test_loader = create_data_loaders(train_dataset, val_dataset, test_dataset)"
   ]
  },
  {
   "cell_type": "code",
   "execution_count": 49,
   "metadata": {},
   "outputs": [
    {
     "name": "stdout",
     "output_type": "stream",
     "text": [
      "=======================================================================================================================================================================================================================\n",
      "Layer (type:depth-idx)                   Input Shape               Output Shape              Param #                   Param %                   Kernel Shape              Mult-Adds                 Trainable\n",
      "=======================================================================================================================================================================================================================\n",
      "MLP                                      [128, 100]                [128, 2]                  --                             --                   --                        --                        True\n",
      "├─ModuleList: 1-11                       --                        --                        (recursive)               (recursive)               --                        --                        True\n",
      "│    └─0.weight                                                                              ├─10,000                                            [100, 100]\n",
      "│    └─0.bias                                                                                ├─100                                               [100]\n",
      "│    └─1.weight                                                                              ├─10,000                                            [100, 100]\n",
      "│    └─1.bias                                                                                ├─100                                               [100]\n",
      "│    └─2.weight                                                                              ├─10,000                                            [100, 100]\n",
      "│    └─2.bias                                                                                ├─100                                               [100]\n",
      "│    └─3.weight                                                                              ├─10,000                                            [100, 100]\n",
      "│    └─3.bias                                                                                ├─100                                               [100]\n",
      "│    └─4.weight                                                                              ├─10,000                                            [100, 100]\n",
      "│    └─4.bias                                                                                ├─100                                               [100]\n",
      "│    └─5.weight                                                                              ├─10,000                                            [100, 100]\n",
      "│    └─5.bias                                                                                └─100                                               [100]\n",
      "│    └─Linear: 2-1                       [128, 100]                [128, 100]                10,100                     16.61%                   --                        1,292,800                 True\n",
      "│    │    └─weight                                                                           ├─10,000                                            [100, 100]\n",
      "│    │    └─bias                                                                             └─100                                               [100]\n",
      "├─ReLU: 1-2                              [128, 100]                [128, 100]                --                             --                   --                        --                        --\n",
      "├─ModuleList: 1-11                       --                        --                        (recursive)               (recursive)               --                        --                        True\n",
      "│    └─0.weight                                                                              ├─10,000                                            [100, 100]\n",
      "│    └─0.bias                                                                                ├─100                                               [100]\n",
      "│    └─1.weight                                                                              ├─10,000                                            [100, 100]\n",
      "│    └─1.bias                                                                                ├─100                                               [100]\n",
      "│    └─2.weight                                                                              ├─10,000                                            [100, 100]\n",
      "│    └─2.bias                                                                                ├─100                                               [100]\n",
      "│    └─3.weight                                                                              ├─10,000                                            [100, 100]\n",
      "│    └─3.bias                                                                                ├─100                                               [100]\n",
      "│    └─4.weight                                                                              ├─10,000                                            [100, 100]\n",
      "│    └─4.bias                                                                                ├─100                                               [100]\n",
      "│    └─5.weight                                                                              ├─10,000                                            [100, 100]\n",
      "│    └─5.bias                                                                                └─100                                               [100]\n",
      "│    └─Linear: 2-2                       [128, 100]                [128, 100]                10,100                     16.61%                   --                        1,292,800                 True\n",
      "│    │    └─weight                                                                           ├─10,000                                            [100, 100]\n",
      "│    │    └─bias                                                                             └─100                                               [100]\n",
      "├─ReLU: 1-4                              [128, 100]                [128, 100]                --                        (recursive)               --                        --                        --\n",
      "├─ModuleList: 1-11                       --                        --                        (recursive)               (recursive)               --                        --                        True\n",
      "│    └─0.weight                                                                              ├─10,000                                            [100, 100]\n",
      "│    └─0.bias                                                                                ├─100                                               [100]\n",
      "│    └─1.weight                                                                              ├─10,000                                            [100, 100]\n",
      "│    └─1.bias                                                                                ├─100                                               [100]\n",
      "│    └─2.weight                                                                              ├─10,000                                            [100, 100]\n",
      "│    └─2.bias                                                                                ├─100                                               [100]\n",
      "│    └─3.weight                                                                              ├─10,000                                            [100, 100]\n",
      "│    └─3.bias                                                                                ├─100                                               [100]\n",
      "│    └─4.weight                                                                              ├─10,000                                            [100, 100]\n",
      "│    └─4.bias                                                                                ├─100                                               [100]\n",
      "│    └─5.weight                                                                              ├─10,000                                            [100, 100]\n",
      "│    └─5.bias                                                                                └─100                                               [100]\n",
      "│    └─Linear: 2-3                       [128, 100]                [128, 100]                10,100                     16.61%                   --                        1,292,800                 True\n",
      "│    │    └─weight                                                                           ├─10,000                                            [100, 100]\n",
      "│    │    └─bias                                                                             └─100                                               [100]\n",
      "├─ReLU: 1-6                              [128, 100]                [128, 100]                --                        (recursive)               --                        --                        --\n",
      "├─ModuleList: 1-11                       --                        --                        (recursive)               (recursive)               --                        --                        True\n",
      "│    └─0.weight                                                                              ├─10,000                                            [100, 100]\n",
      "│    └─0.bias                                                                                ├─100                                               [100]\n",
      "│    └─1.weight                                                                              ├─10,000                                            [100, 100]\n",
      "│    └─1.bias                                                                                ├─100                                               [100]\n",
      "│    └─2.weight                                                                              ├─10,000                                            [100, 100]\n",
      "│    └─2.bias                                                                                ├─100                                               [100]\n",
      "│    └─3.weight                                                                              ├─10,000                                            [100, 100]\n",
      "│    └─3.bias                                                                                ├─100                                               [100]\n",
      "│    └─4.weight                                                                              ├─10,000                                            [100, 100]\n",
      "│    └─4.bias                                                                                ├─100                                               [100]\n",
      "│    └─5.weight                                                                              ├─10,000                                            [100, 100]\n",
      "│    └─5.bias                                                                                └─100                                               [100]\n",
      "│    └─Linear: 2-4                       [128, 100]                [128, 100]                10,100                     16.61%                   --                        1,292,800                 True\n",
      "│    │    └─weight                                                                           ├─10,000                                            [100, 100]\n",
      "│    │    └─bias                                                                             └─100                                               [100]\n",
      "├─ReLU: 1-8                              [128, 100]                [128, 100]                --                        (recursive)               --                        --                        --\n",
      "├─ModuleList: 1-11                       --                        --                        (recursive)               (recursive)               --                        --                        True\n",
      "│    └─0.weight                                                                              ├─10,000                                            [100, 100]\n",
      "│    └─0.bias                                                                                ├─100                                               [100]\n",
      "│    └─1.weight                                                                              ├─10,000                                            [100, 100]\n",
      "│    └─1.bias                                                                                ├─100                                               [100]\n",
      "│    └─2.weight                                                                              ├─10,000                                            [100, 100]\n",
      "│    └─2.bias                                                                                ├─100                                               [100]\n",
      "│    └─3.weight                                                                              ├─10,000                                            [100, 100]\n",
      "│    └─3.bias                                                                                ├─100                                               [100]\n",
      "│    └─4.weight                                                                              ├─10,000                                            [100, 100]\n",
      "│    └─4.bias                                                                                ├─100                                               [100]\n",
      "│    └─5.weight                                                                              ├─10,000                                            [100, 100]\n",
      "│    └─5.bias                                                                                └─100                                               [100]\n",
      "│    └─Linear: 2-5                       [128, 100]                [128, 100]                10,100                     16.61%                   --                        1,292,800                 True\n",
      "│    │    └─weight                                                                           ├─10,000                                            [100, 100]\n",
      "│    │    └─bias                                                                             └─100                                               [100]\n",
      "├─ReLU: 1-10                             [128, 100]                [128, 100]                --                        (recursive)               --                        --                        --\n",
      "├─ModuleList: 1-11                       --                        --                        (recursive)               (recursive)               --                        --                        True\n",
      "│    └─0.weight                                                                              ├─10,000                                            [100, 100]\n",
      "│    └─0.bias                                                                                ├─100                                               [100]\n",
      "│    └─1.weight                                                                              ├─10,000                                            [100, 100]\n",
      "│    └─1.bias                                                                                ├─100                                               [100]\n",
      "│    └─2.weight                                                                              ├─10,000                                            [100, 100]\n",
      "│    └─2.bias                                                                                ├─100                                               [100]\n",
      "│    └─3.weight                                                                              ├─10,000                                            [100, 100]\n",
      "│    └─3.bias                                                                                ├─100                                               [100]\n",
      "│    └─4.weight                                                                              ├─10,000                                            [100, 100]\n",
      "│    └─4.bias                                                                                ├─100                                               [100]\n",
      "│    └─5.weight                                                                              ├─10,000                                            [100, 100]\n",
      "│    └─5.bias                                                                                └─100                                               [100]\n",
      "│    └─Linear: 2-6                       [128, 100]                [128, 100]                10,100                     16.61%                   --                        1,292,800                 True\n",
      "│    │    └─weight                                                                           ├─10,000                                            [100, 100]\n",
      "│    │    └─bias                                                                             └─100                                               [100]\n",
      "├─ReLU: 1-12                             [128, 100]                [128, 100]                --                        (recursive)               --                        --                        --\n",
      "├─Linear: 1-13                           [128, 100]                [128, 2]                  202                         0.33%                   --                        25,856                    True\n",
      "│    └─weight                                                                                ├─200                                               [100, 2]\n",
      "│    └─bias                                                                                  └─2                                                 [2]\n",
      "=======================================================================================================================================================================================================================\n",
      "Total params: 60,802\n",
      "Trainable params: 60,802\n",
      "Non-trainable params: 0\n",
      "Total mult-adds (Units.MEGABYTES): 7.78\n",
      "=======================================================================================================================================================================================================================\n",
      "Input size (MB): 0.05\n",
      "Forward/backward pass size (MB): 0.62\n",
      "Params size (MB): 0.24\n",
      "Estimated Total Size (MB): 0.91\n",
      "=======================================================================================================================================================================================================================\n",
      "             MLP               Summary\n"
     ]
    },
    {
     "name": "stderr",
     "output_type": "stream",
     "text": [
      "Epoch 500/500 - train_loss: 0.3036, val_loss: 0.2949: 100%|\u001b[32m██████████\u001b[0m| 500/500 [2:40:31<00:00, 19.26s/it]  \n"
     ]
    },
    {
     "name": "stdout",
     "output_type": "stream",
     "text": [
      "Best model loading (best_model.pt)...\n",
      "Validation set - Estimated branching ratio (η): 0.4312, Estimated baseline intensity (µ): 2.8369\n"
     ]
    }
   ],
   "source": [
    "# Run model\n",
    "\n",
    "model, train_losses, val_losses, val_y_pred, val_eta, val_mu = MLPTrainer().train_model(train_loader, val_loader, val_x)"
   ]
  }
 ],
 "metadata": {
  "kernelspec": {
   "display_name": "Python 3",
   "language": "python",
   "name": "python3"
  },
  "language_info": {
   "codemirror_mode": {
    "name": "ipython",
    "version": 3
   },
   "file_extension": ".py",
   "mimetype": "text/x-python",
   "name": "python",
   "nbconvert_exporter": "python",
   "pygments_lexer": "ipython3",
   "version": "3.11.2"
  },
  "orig_nbformat": 4
 },
 "nbformat": 4,
 "nbformat_minor": 2
}
