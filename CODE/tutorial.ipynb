{
 "cells": [
  {
   "attachments": {},
   "cell_type": "markdown",
   "metadata": {},
   "source": [
    "## VAE Hawkes Process Estimation - Tutorial"
   ]
  },
  {
   "cell_type": "code",
   "execution_count": 113,
   "metadata": {},
   "outputs": [
    {
     "name": "stdout",
     "output_type": "stream",
     "text": [
      "The autoreload extension is already loaded. To reload it, use:\n",
      "  %reload_ext autoreload\n"
     ]
    }
   ],
   "source": [
    "import os\n",
    "\n",
    "import numpy as np\n",
    "import pandas as pd\n",
    "\n",
    "from DL.mlp_model import MLPTrainer\n",
    "from VARIABLES import preprocessing_var as prep\n",
    "from HAWKES.hawkes import hawkes_simulations, hawkes_simulation\n",
    "from HAWKES.hyperparameters import hyper_params_simulation\n",
    "from HAWKES.discretisation import discretise\n",
    "from DL.linear_model import linear_model\n",
    "from UTILS.utils import write_csv, write_parquet, read_parquet, timer, parquet_to_csv, read_csv\n",
    "from PREPROCESSING.dataset import split_data, create_datasets, create_data_loaders\n",
    "\n",
    "%load_ext autoreload\n",
    "%autoreload 2"
   ]
  },
  {
   "attachments": {},
   "cell_type": "markdown",
   "metadata": {},
   "source": [
    "### Preprocessing"
   ]
  },
  {
   "cell_type": "code",
   "execution_count": 114,
   "metadata": {},
   "outputs": [],
   "source": [
    "# Training/Validation/Testing dataset generation\n",
    "\n",
    "# Intensity Decay Parameter (β) = U(p = 1, q = 3)\n",
    "# Branching Ratio (η) = U(a = 0.05, b = 0.8)\n",
    "# Expected Activity (E) = 500\n",
    "# Time Horizon (T) = 100\n",
    "# Interval Length (∆) = 1\n",
    "# Number of processes = 100_000\n",
    "\n",
    "# Hawkes process hyper-parameters generation\n",
    "params, alpha, beta, mu = hyper_params_simulation(filename=\"hawkes_hyperparams.parquet\")\n",
    "\n",
    "# Hawkes processes simulations\n",
    "simulated_events_seqs = hawkes_simulations(alpha, beta, mu, filename='hawkes_simulations.parquet')\n",
    "\n",
    "# Discrétiser les processus de Hawkes\n",
    "discret_simulated_events_seqs = discretise(simulated_events_seqs, filename='binned_hawkes_simulations.parquet')"
   ]
  },
  {
   "cell_type": "code",
   "execution_count": 130,
   "metadata": {},
   "outputs": [],
   "source": [
    "# Data Preparation\n",
    "\n",
    "x = read_parquet(\"binned_hawkes_simulations.parquet\")\n",
    "y = read_parquet('hawkes_hyperparams.parquet')\n",
    "\n",
    "train_x, train_y, val_x, val_y, test_x, test_y = split_data(x, y.iloc[:, [0, 2]])\n",
    "train_dataset, val_dataset, test_dataset = create_datasets(train_x, train_y, val_x, val_y, test_x, test_y)\n",
    "train_loader, val_loader, test_loader = create_data_loaders(train_dataset, val_dataset, test_dataset)"
   ]
  },
  {
   "cell_type": "code",
   "execution_count": 133,
   "metadata": {},
   "outputs": [
    {
     "name": "stderr",
     "output_type": "stream",
     "text": [
      "c:\\Users\\Nicolas Girard\\AppData\\Local\\Programs\\Python\\Python311\\Lib\\site-packages\\torchinfo\\torchinfo.py:477: UserWarning: TypedStorage is deprecated. It will be removed in the future and UntypedStorage will be the only storage class. This should only matter to you if you are using storages directly.  To access UntypedStorage directly, use tensor.untyped_storage() instead of tensor.storage()\n",
      "  action_fn=lambda data: sys.getsizeof(data.storage()),\n",
      "c:\\Users\\Nicolas Girard\\AppData\\Local\\Programs\\Python\\Python311\\Lib\\site-packages\\torch\\storage.py:665: UserWarning: TypedStorage is deprecated. It will be removed in the future and UntypedStorage will be the only storage class. This should only matter to you if you are using storages directly.  To access UntypedStorage directly, use tensor.untyped_storage() instead of tensor.storage()\n",
      "  return super().__sizeof__() + self.nbytes()\n"
     ]
    },
    {
     "name": "stdout",
     "output_type": "stream",
     "text": [
      "=======================================================================================================================================================================================================================\n",
      "Layer (type:depth-idx)                   Input Shape               Output Shape              Param #                   Param %                   Kernel Shape              Mult-Adds                 Trainable\n",
      "=======================================================================================================================================================================================================================\n",
      "MLP                                      [128, 100]                [128, 2]                  --                             --                   --                        --                        True\n",
      "├─ModuleList: 1-11                       --                        --                        (recursive)               (recursive)               --                        --                        True\n",
      "│    └─Linear: 2-1                       [128, 100]                [128, 100]                10,100                     16.61%                   --                        1,292,800                 True\n",
      "├─ReLU: 1-2                              [128, 100]                [128, 100]                --                             --                   --                        --                        --\n",
      "├─ModuleList: 1-11                       --                        --                        (recursive)               (recursive)               --                        --                        True\n",
      "│    └─Linear: 2-2                       [128, 100]                [128, 100]                10,100                     16.61%                   --                        1,292,800                 True\n",
      "├─ReLU: 1-4                              [128, 100]                [128, 100]                --                        (recursive)               --                        --                        --\n",
      "├─ModuleList: 1-11                       --                        --                        (recursive)               (recursive)               --                        --                        True\n",
      "│    └─Linear: 2-3                       [128, 100]                [128, 100]                10,100                     16.61%                   --                        1,292,800                 True\n",
      "├─ReLU: 1-6                              [128, 100]                [128, 100]                --                        (recursive)               --                        --                        --\n",
      "├─ModuleList: 1-11                       --                        --                        (recursive)               (recursive)               --                        --                        True\n",
      "│    └─Linear: 2-4                       [128, 100]                [128, 100]                10,100                     16.61%                   --                        1,292,800                 True\n",
      "├─ReLU: 1-8                              [128, 100]                [128, 100]                --                        (recursive)               --                        --                        --\n",
      "├─ModuleList: 1-11                       --                        --                        (recursive)               (recursive)               --                        --                        True\n",
      "│    └─Linear: 2-5                       [128, 100]                [128, 100]                10,100                     16.61%                   --                        1,292,800                 True\n",
      "├─ReLU: 1-10                             [128, 100]                [128, 100]                --                        (recursive)               --                        --                        --\n",
      "├─ModuleList: 1-11                       --                        --                        (recursive)               (recursive)               --                        --                        True\n",
      "│    └─Linear: 2-6                       [128, 100]                [128, 100]                10,100                     16.61%                   --                        1,292,800                 True\n",
      "├─ReLU: 1-12                             [128, 100]                [128, 100]                --                        (recursive)               --                        --                        --\n",
      "├─Linear: 1-13                           [128, 100]                [128, 2]                  202                         0.33%                   --                        25,856                    True\n",
      "=======================================================================================================================================================================================================================\n",
      "Total params: 60,802\n",
      "Trainable params: 60,802\n",
      "Non-trainable params: 0\n",
      "Total mult-adds (Units.MEGABYTES): 7.78\n",
      "=======================================================================================================================================================================================================================\n",
      "Input size (MB): 0.05\n",
      "Forward/backward pass size (MB): 0.62\n",
      "Params size (MB): 0.24\n",
      "Estimated Total Size (MB): 0.91\n",
      "=======================================================================================================================================================================================================================\n",
      "             MLP               Summary\n"
     ]
    },
    {
     "name": "stderr",
     "output_type": "stream",
     "text": [
      "Training Progress:   0%|\u001b[32m          \u001b[0m| 0/500 [00:00<?, ?it/s]"
     ]
    }
   ],
   "source": [
    "# Trained model\n",
    "\n",
    "model, train_losses, val_losses, val_y_pred, val_eta, val_mu = MLPTrainer().train_model(train_loader, val_loader, val_x, val_y)\n",
    "%load_ext tensorboard"
   ]
  },
  {
   "cell_type": "code",
   "execution_count": 118,
   "metadata": {},
   "outputs": [
    {
     "name": "stdout",
     "output_type": "stream",
     "text": [
      "Test set - Test loss: 4.8846, Estimated branching ratio (η): -0.1058, Estimated baseline intensity (µ): 0.0142\n",
      "The tensorboard extension is already loaded. To reload it, use:\n",
      "  %reload_ext tensorboard\n"
     ]
    }
   ],
   "source": [
    "# Tested model\n",
    "\n",
    "test_y_pred, test_loss, test_eta, test_mu = MLPTrainer().test_model(test_loader, test_y)\n",
    "%load_ext tensorboard"
   ]
  },
  {
   "cell_type": "code",
   "execution_count": 126,
   "metadata": {},
   "outputs": [
    {
     "ename": "ValueError",
     "evalue": "operands could not be broadcast together with shapes (100000,) (40000,) ",
     "output_type": "error",
     "traceback": [
      "\u001b[1;31m---------------------------------------------------------------------------\u001b[0m",
      "\u001b[1;31mValueError\u001b[0m                                Traceback (most recent call last)",
      "Cell \u001b[1;32mIn[126], line 3\u001b[0m\n\u001b[0;32m      1\u001b[0m \u001b[39m# α and β estimation (linear model)\u001b[39;00m\n\u001b[1;32m----> 3\u001b[0m param_pred, alpha_pred, beta_pred \u001b[39m=\u001b[39m linear_model(val_y_pred, train_x, val_x, params)\n",
      "File \u001b[1;32mc:\\Users\\Nicolas Girard\\Documents\\VAE_HAWKES_PROCESS_ESTIMATION\\CODE\\DL\\linear_model.py:53\u001b[0m, in \u001b[0;36mlinear_model\u001b[1;34m(val_y_pred, train_x, val_x, params, step_size, folder, args)\u001b[0m\n\u001b[0;32m     50\u001b[0m eta \u001b[39m=\u001b[39m params[:, \u001b[39m0\u001b[39m] \u001b[39m/\u001b[39m params[:, \u001b[39m1\u001b[39m]\n\u001b[0;32m     52\u001b[0m \u001b[39m#Extracted similar eta values from training data using mask\u001b[39;00m\n\u001b[1;32m---> 53\u001b[0m similar_eta \u001b[39m=\u001b[39m train_x[(eta \u001b[39m>\u001b[39;49m min_eta) \u001b[39m&\u001b[39m (eta \u001b[39m<\u001b[39m max_eta), :]\n\u001b[0;32m     54\u001b[0m similar_eta_alpha \u001b[39m=\u001b[39m params[(eta \u001b[39m>\u001b[39m min_eta) \u001b[39m&\u001b[39m (eta \u001b[39m<\u001b[39m max_eta), \u001b[39m0\u001b[39m]\n\u001b[0;32m     55\u001b[0m _ \u001b[39m=\u001b[39m params[(eta \u001b[39m>\u001b[39m min_eta) \u001b[39m&\u001b[39m (eta \u001b[39m<\u001b[39m max_eta), \u001b[39m2\u001b[39m]\n",
      "\u001b[1;31mValueError\u001b[0m: operands could not be broadcast together with shapes (100000,) (40000,) "
     ]
    }
   ],
   "source": [
    "# α and β estimation (linear model)\n",
    "\n",
    "param_pred, alpha_pred, beta_pred = linear_model(val_y_pred, train_x, val_x, params)"
   ]
  },
  {
   "cell_type": "code",
   "execution_count": null,
   "metadata": {},
   "outputs": [],
   "source": [
    "# Tests and comparison (Testing Effects of Parameters = β, η, ∆, E)\n",
    "\n",
    "# Intensity Decay Parameter (β) = U(p = 1, q = 3)\n",
    "# Branching Ratio (η) = U(a = 0.2, b = 0.6)\n",
    "# Expected Activity (E) = 500\n",
    "# Time Horizon (T) = 100\n",
    "# Interval Length (∆) = 1\n",
    "# Number of processes = 200\n",
    "# Number of tests = 100\n",
    "\n",
    "# Intensity Decay Parameter (β) | Branching Ratio (η) | Interval Length (∆) | Expected Activity (E)\n",
    "                                                                   \n",
    "#          [0.5,2.5]                   [0.1,0.4]               0.25                   50\n",
    "#         [1.75,3.75]                  [0.3,0.6]               0.5                    100\n",
    "#            [3,5]                     [0.5,0.8]                1                     250\n",
    "#           [0.5,3]                    [0.1,0.6]                2                     500\n",
    "#           [1.5,4]                    [0.2,0.7]                5                     1000\n",
    "#           [2.5,5]                    [0.3,0.8]\n",
    "#           [0.5,4]                    [0.05,0.6]\n",
    "#           [1.5,5]                    [0.05,0.7]\n",
    "#           [0.5,5]                    [0.05,0.8]\n",
    "\n",
    "# Hawkes process hyper-parameters generation\n",
    "params, alpha, beta, mu = hyper_params_simulation(filename=\"hawkes_hyperparams.parquet\")\n",
    "\n",
    "# Hawkes processes simulations\n",
    "simulated_events_seqs = hawkes_simulations(alpha, beta, mu, filename='hawkes_simulations.parquet')\n",
    "\n",
    "# Discrétiser les processus de Hawkes\n",
    "discret_simulated_events_seqs = discretise(simulated_events_seqs, filename='binned_hawkes_simulations.parquet')"
   ]
  },
  {
   "cell_type": "code",
   "execution_count": 121,
   "metadata": {},
   "outputs": [
    {
     "data": {
      "text/html": [
       "<div>\n",
       "<style scoped>\n",
       "    .dataframe tbody tr th:only-of-type {\n",
       "        vertical-align: middle;\n",
       "    }\n",
       "\n",
       "    .dataframe tbody tr th {\n",
       "        vertical-align: top;\n",
       "    }\n",
       "\n",
       "    .dataframe thead th {\n",
       "        text-align: right;\n",
       "    }\n",
       "</style>\n",
       "<table border=\"1\" class=\"dataframe\">\n",
       "  <thead>\n",
       "    <tr style=\"text-align: right;\">\n",
       "      <th></th>\n",
       "      <th>val_eta_true</th>\n",
       "      <th>val_mu_true</th>\n",
       "      <th>val_eta_pred</th>\n",
       "      <th>val_mu_pred</th>\n",
       "    </tr>\n",
       "  </thead>\n",
       "  <tbody>\n",
       "    <tr>\n",
       "      <th>0</th>\n",
       "      <td>0.289340</td>\n",
       "      <td>3.578383</td>\n",
       "      <td>0.236507</td>\n",
       "      <td>3.864950</td>\n",
       "    </tr>\n",
       "    <tr>\n",
       "      <th>1</th>\n",
       "      <td>0.116476</td>\n",
       "      <td>4.999648</td>\n",
       "      <td>0.221661</td>\n",
       "      <td>3.946149</td>\n",
       "    </tr>\n",
       "    <tr>\n",
       "      <th>2</th>\n",
       "      <td>0.724130</td>\n",
       "      <td>1.420453</td>\n",
       "      <td>0.559577</td>\n",
       "      <td>2.149976</td>\n",
       "    </tr>\n",
       "    <tr>\n",
       "      <th>3</th>\n",
       "      <td>0.710604</td>\n",
       "      <td>1.188248</td>\n",
       "      <td>0.663752</td>\n",
       "      <td>1.674449</td>\n",
       "    </tr>\n",
       "    <tr>\n",
       "      <th>4</th>\n",
       "      <td>0.691518</td>\n",
       "      <td>1.293628</td>\n",
       "      <td>0.635288</td>\n",
       "      <td>1.804378</td>\n",
       "    </tr>\n",
       "    <tr>\n",
       "      <th>...</th>\n",
       "      <td>...</td>\n",
       "      <td>...</td>\n",
       "      <td>...</td>\n",
       "      <td>...</td>\n",
       "    </tr>\n",
       "    <tr>\n",
       "      <th>39995</th>\n",
       "      <td>0.339272</td>\n",
       "      <td>3.285681</td>\n",
       "      <td>0.475098</td>\n",
       "      <td>2.559999</td>\n",
       "    </tr>\n",
       "    <tr>\n",
       "      <th>39996</th>\n",
       "      <td>0.509901</td>\n",
       "      <td>2.245607</td>\n",
       "      <td>0.385080</td>\n",
       "      <td>3.052341</td>\n",
       "    </tr>\n",
       "    <tr>\n",
       "      <th>39997</th>\n",
       "      <td>0.691510</td>\n",
       "      <td>1.614110</td>\n",
       "      <td>0.703228</td>\n",
       "      <td>1.481999</td>\n",
       "    </tr>\n",
       "    <tr>\n",
       "      <th>39998</th>\n",
       "      <td>0.252738</td>\n",
       "      <td>3.516221</td>\n",
       "      <td>0.329935</td>\n",
       "      <td>3.353953</td>\n",
       "    </tr>\n",
       "    <tr>\n",
       "      <th>39999</th>\n",
       "      <td>0.552016</td>\n",
       "      <td>2.394232</td>\n",
       "      <td>0.660172</td>\n",
       "      <td>1.690791</td>\n",
       "    </tr>\n",
       "  </tbody>\n",
       "</table>\n",
       "<p>40000 rows × 4 columns</p>\n",
       "</div>"
      ],
      "text/plain": [
       "       val_eta_true  val_mu_true  val_eta_pred  val_mu_pred\n",
       "0          0.289340     3.578383      0.236507     3.864950\n",
       "1          0.116476     4.999648      0.221661     3.946149\n",
       "2          0.724130     1.420453      0.559577     2.149976\n",
       "3          0.710604     1.188248      0.663752     1.674449\n",
       "4          0.691518     1.293628      0.635288     1.804378\n",
       "...             ...          ...           ...          ...\n",
       "39995      0.339272     3.285681      0.475098     2.559999\n",
       "39996      0.509901     2.245607      0.385080     3.052341\n",
       "39997      0.691510     1.614110      0.703228     1.481999\n",
       "39998      0.252738     3.516221      0.329935     3.353953\n",
       "39999      0.552016     2.394232      0.660172     1.690791\n",
       "\n",
       "[40000 rows x 4 columns]"
      ]
     },
     "execution_count": 121,
     "metadata": {},
     "output_type": "execute_result"
    }
   ],
   "source": [
    "import VARIABLES.evaluation_var as eval\n",
    "\n",
    "read_parquet('2023_04_27_14_29_36_MICSHPEG8GIRARD_PRED.parquet', folder=os.path.join(eval.LOGDIRUN, 'TRAINING', eval.RUN_NAME))"
   ]
  }
 ],
 "metadata": {
  "kernelspec": {
   "display_name": "Python 3",
   "language": "python",
   "name": "python3"
  },
  "language_info": {
   "codemirror_mode": {
    "name": "ipython",
    "version": 3
   },
   "file_extension": ".py",
   "mimetype": "text/x-python",
   "name": "python",
   "nbconvert_exporter": "python",
   "pygments_lexer": "ipython3",
   "version": "3.11.2"
  },
  "orig_nbformat": 4
 },
 "nbformat": 4,
 "nbformat_minor": 2
}
