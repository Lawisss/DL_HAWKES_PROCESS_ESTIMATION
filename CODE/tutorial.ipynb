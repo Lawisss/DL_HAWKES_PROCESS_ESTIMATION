{
 "cells": [
  {
   "attachments": {},
   "cell_type": "markdown",
   "metadata": {},
   "source": [
    "## VAE Hawkes Process Estimation - Tutorial"
   ]
  },
  {
   "cell_type": "code",
   "execution_count": 28,
   "metadata": {},
   "outputs": [
    {
     "name": "stdout",
     "output_type": "stream",
     "text": [
      "The autoreload extension is already loaded. To reload it, use:\n",
      "  %reload_ext autoreload\n"
     ]
    }
   ],
   "source": [
    "import os\n",
    "import sys\n",
    "\n",
    "import numpy as np\n",
    "import pandas as pd\n",
    "import Hawkes as hk\n",
    "from matplotlib import pyplot as plt\n",
    "\n",
    "from PREPROCESSING.hawkes import hawkes_simulations\n",
    "from PREPROCESSING.hyperparameters import hyper_params_simulation\n",
    "from PREPROCESSING.discretisation import discretise\n",
    "import VARIABLES.variables as var\n",
    "\n",
    "%load_ext autoreload\n",
    "%autoreload 2"
   ]
  },
  {
   "attachments": {},
   "cell_type": "markdown",
   "metadata": {},
   "source": [
    "### Preprocessing"
   ]
  },
  {
   "cell_type": "code",
   "execution_count": 29,
   "metadata": {},
   "outputs": [],
   "source": [
    "# Hawkes process hyper-parameters generation\n",
    "\n",
    "params, alpha, beta, mu = hyper_params_simulation()"
   ]
  },
  {
   "cell_type": "code",
   "execution_count": 32,
   "metadata": {},
   "outputs": [],
   "source": [
    "# Hawkes processes simulations\n",
    "\n",
    "raw_simulated_events_seqs = hawkes_simulations(mu, alpha, beta)"
   ]
  },
  {
   "cell_type": "code",
   "execution_count": null,
   "metadata": {},
   "outputs": [],
   "source": [
    "df = pd.DataFrame(raw_simulated_events_seqs, columns=[\"process\"])\n",
    "df.to_csv(f\"{var.FILEPATH}{'hawkes_simulations.csv'}\", index=False)"
   ]
  },
  {
   "cell_type": "code",
   "execution_count": null,
   "metadata": {},
   "outputs": [],
   "source": [
    "# Discrétiser les processus de Hawkes\n",
    "#discret_train_processes = discretise(raw_train_processes, step, horizon=horizon)\n",
    "\n",
    "#discret_train_processes"
   ]
  },
  {
   "cell_type": "code",
   "execution_count": 27,
   "metadata": {},
   "outputs": [
    {
     "name": "stdout",
     "output_type": "stream",
     "text": [
      "56.9 s ± 22.6 s per loop (mean ± std. dev. of 7 runs, 1 loop each)\n",
      "[[5.07988363e-01 5.21968662e-01 5.22283206e-01 5.56871252e-01\n",
      "  6.11609820e-01 6.18239973e-01 6.75321188e-01 7.76253319e-01\n",
      "  1.07321554e+00 1.12138737e+00 1.27017636e+00 1.42096863e+00\n",
      "  1.49980935e+00 1.58381881e+00 1.63133429e+00 1.75108233e+00\n",
      "  1.88676164e+00 2.00160334e+00 2.08654319e+00 2.27419405e+00]\n",
      " [2.09291996e-01 3.69198933e-01 6.77575425e-01 1.50911636e+00\n",
      "  1.63101362e+00 1.85560470e+00 2.21624085e+00 2.37890456e+00\n",
      "  2.58846386e+00 2.68739396e+00 2.78718204e+00 2.80867997e+00\n",
      "  2.82481563e+00 3.47410083e+00 3.61563007e+00 3.84739894e+00\n",
      "  4.32348003e+00 4.52879158e+00 4.85679189e+00 4.97714125e+00]\n",
      " [6.74590400e-02 8.78248859e-02 1.32693363e-01 1.41617269e-01\n",
      "  7.28837605e-01 8.67796793e-01 1.05733289e+00 1.06972147e+00\n",
      "  1.22841677e+00 1.61305796e+00 1.90373466e+00 1.92685993e+00\n",
      "  1.95605508e+00 1.98047941e+00 2.00111672e+00 2.00979714e+00\n",
      "  2.09891685e+00 2.15731178e+00 2.19866862e+00 2.32464000e+00]\n",
      " [7.42916907e-02 8.84305665e-02 2.50534113e-01 4.94585365e-01\n",
      "  9.66403201e-01 1.19045686e+00 1.54038337e+00 2.84057957e+00\n",
      "  3.19447576e+00 3.85545888e+00 4.09039656e+00 4.12218060e+00\n",
      "  4.33449683e+00 4.40693406e+00 4.66062297e+00 4.67729717e+00\n",
      "  4.80352571e+00 5.22581602e+00 5.31783730e+00 5.39932734e+00]\n",
      " [2.38284790e-01 1.05404845e+00 1.07260135e+00 1.14632850e+00\n",
      "  1.15117365e+00 1.29036545e+00 1.35801457e+00 1.56152877e+00\n",
      "  1.69653165e+00 1.73083468e+00 1.75053567e+00 1.76631720e+00\n",
      "  1.79126035e+00 1.81104887e+00 1.82292719e+00 1.83963706e+00\n",
      "  1.86731716e+00 1.90474499e+00 1.92312874e+00 1.95000233e+00]\n",
      " [5.54660724e-01 6.94989732e-01 1.02526117e+00 1.20444670e+00\n",
      "  1.22977709e+00 1.68507837e+00 2.43985077e+00 2.55453654e+00\n",
      "  2.56832129e+00 2.84629202e+00 2.93339145e+00 2.96161191e+00\n",
      "  2.96373742e+00 2.98099878e+00 3.04254461e+00 3.05275466e+00\n",
      "  3.06690989e+00 3.09517466e+00 3.16929271e+00 3.17863794e+00]\n",
      " [3.10986094e-03 2.07264896e-01 3.86867975e-01 4.08194250e-01\n",
      "  5.21009130e-01 8.43056415e-01 8.60665104e-01 9.37995792e-01\n",
      "  1.01315218e+00 1.11098588e+00 1.13061543e+00 1.41782318e+00\n",
      "  1.66906171e+00 1.84296626e+00 2.25768358e+00 2.44559959e+00\n",
      "  2.50203449e+00 2.78717236e+00 2.87679527e+00 2.91052973e+00]\n",
      " [8.71347420e-01 1.28874428e+00 1.28906299e+00 1.29848146e+00\n",
      "  1.30913462e+00 1.31085796e+00 1.31687794e+00 1.31897894e+00\n",
      "  1.50618289e+00 1.78294030e+00 1.78740496e+00 1.95937654e+00\n",
      "  1.97003011e+00 2.69507809e+00 2.93586897e+00 3.07053051e+00\n",
      "  3.08484045e+00 3.12411474e+00 3.26018720e+00 3.29830514e+00]\n",
      " [6.11852342e-01 1.05211690e+00 1.26129016e+00 1.66347918e+00\n",
      "  1.67555894e+00 1.70774943e+00 1.74067043e+00 1.88747928e+00\n",
      "  2.10588705e+00 2.12944756e+00 2.24930539e+00 2.26947280e+00\n",
      "  2.34385597e+00 2.35208646e+00 2.36427304e+00 2.38445201e+00\n",
      "  2.53017195e+00 2.56109728e+00 2.66201167e+00 2.90941252e+00]\n",
      " [1.90704856e-02 1.08550636e-01 1.68810354e-01 4.42552087e-01\n",
      "  6.47884083e-01 7.92528211e-01 8.47506216e-01 9.89979529e-01\n",
      "  1.05290580e+00 1.13132427e+00 1.13274449e+00 1.13383820e+00\n",
      "  1.13626590e+00 1.19731745e+00 1.26168649e+00 1.35459244e+00\n",
      "  1.37076162e+00 1.38208618e+00 1.40579961e+00 1.40778514e+00]\n",
      " [3.57005517e-02 1.96730415e-01 2.48841710e-01 3.97536289e-01\n",
      "  5.06399251e-01 8.20790344e-01 9.17721462e-01 1.09412155e+00\n",
      "  1.22165923e+00 1.86018194e+00 2.51457262e+00 2.58708303e+00\n",
      "  2.95634144e+00 3.11483448e+00 3.27629549e+00 3.44840837e+00\n",
      "  3.80803473e+00 3.96013051e+00 4.13965733e+00 4.30422978e+00]\n",
      " [8.34087973e-01 9.21214852e-01 1.00610563e+00 1.08930554e+00\n",
      "  1.29528337e+00 1.29556584e+00 1.29909737e+00 1.31074459e+00\n",
      "  1.44269713e+00 1.49569718e+00 1.50876357e+00 1.59546026e+00\n",
      "  1.62245647e+00 1.68410378e+00 1.86501981e+00 2.08200258e+00\n",
      "  2.14341746e+00 2.14392201e+00 2.28435888e+00 2.40500000e+00]\n",
      " [1.20787810e-02 1.22183495e-01 2.48300688e-01 2.77797376e-01\n",
      "  3.09709357e-01 4.41790050e-01 4.42197620e-01 5.33660001e-01\n",
      "  5.51606661e-01 6.10693677e-01 6.63680009e-01 6.66237470e-01\n",
      "  6.66610254e-01 6.83487765e-01 7.06915340e-01 7.47052922e-01\n",
      "  8.04380194e-01 8.24526916e-01 8.59427806e-01 8.67553981e-01]\n",
      " [4.28351193e-01 5.17697385e-01 5.58597493e-01 1.80865091e+00\n",
      "  2.29832436e+00 2.47015708e+00 2.53035532e+00 2.55397618e+00\n",
      "  2.85088867e+00 3.33782151e+00 3.36283246e+00 3.51156499e+00\n",
      "  3.60686256e+00 3.78442932e+00 3.86761808e+00 3.92229728e+00\n",
      "  4.25788049e+00 4.31489308e+00 4.35638612e+00 4.60079959e+00]\n",
      " [1.24530159e-01 2.62398048e-01 4.70300044e-01 4.74569891e-01\n",
      "  4.84725119e-01 4.93549668e-01 6.45239838e-01 7.74243312e-01\n",
      "  8.48676062e-01 8.99065650e-01 9.46269887e-01 1.04379249e+00\n",
      "  1.27929991e+00 1.45094848e+00 1.47231380e+00 1.47438199e+00\n",
      "  3.42289186e+00 3.97046623e+00 3.98987038e+00 3.99831703e+00]\n",
      " [1.37723458e+00 1.62820420e+00 1.70830326e+00 1.75361107e+00\n",
      "  1.95233886e+00 2.08784498e+00 2.24395459e+00 2.32542884e+00\n",
      "  2.34834204e+00 2.41853784e+00 2.42074230e+00 2.42899823e+00\n",
      "  2.52812081e+00 2.53182102e+00 2.65838339e+00 2.65891530e+00\n",
      "  2.67615955e+00 2.75965031e+00 2.77370457e+00 2.77782084e+00]\n",
      " [1.69610054e-02 5.07389165e-01 1.42030069e+00 1.81929016e+00\n",
      "  1.87894043e+00 2.07495518e+00 2.42484575e+00 2.48390115e+00\n",
      "  3.06609422e+00 3.18662589e+00 3.22312728e+00 3.23714933e+00\n",
      "  3.27594865e+00 3.69637498e+00 3.75533563e+00 3.76253151e+00\n",
      "  3.77002048e+00 3.77308194e+00 3.77325219e+00 3.92187145e+00]\n",
      " [6.86694579e-02 1.22318947e-01 1.85527550e+00 1.93199251e+00\n",
      "  2.20685731e+00 2.81055135e+00 3.04249055e+00 3.18493762e+00\n",
      "  3.19543404e+00 3.23025435e+00 3.29429843e+00 3.82708331e+00\n",
      "  3.89969089e+00 4.01579904e+00 4.11095989e+00 4.17260236e+00\n",
      "  4.22595572e+00 4.26615497e+00 4.41258813e+00 4.49190152e+00]\n",
      " [2.23170514e+00 2.56163079e+00 3.16823161e+00 3.29940700e+00\n",
      "  3.45008576e+00 3.57657961e+00 3.62795010e+00 3.71335189e+00\n",
      "  4.33838833e+00 4.41191210e+00 4.63493239e+00 4.78561376e+00\n",
      "  4.96240256e+00 5.71069616e+00 5.94041737e+00 5.97424019e+00\n",
      "  6.36280158e+00 6.44843786e+00 6.74264299e+00 6.80497878e+00]\n",
      " [6.39150906e-02 1.70433727e-01 7.94019363e-01 1.23618916e+00\n",
      "  1.30860520e+00 1.33272329e+00 1.41496706e+00 1.67170486e+00\n",
      "  2.04608280e+00 2.19412618e+00 2.21547938e+00 2.39121234e+00\n",
      "  2.90611255e+00 3.18108525e+00 3.22295395e+00 3.25453993e+00\n",
      "  3.80902728e+00 3.89506638e+00 4.40553192e+00 4.47185031e+00]]\n"
     ]
    }
   ],
   "source": [
    "# def test1():\n",
    "#     # # Initialisation d'un tableau numpy vide pour stocker les processus Hawkes simulés (Pré-allocation de la mémoire)\n",
    "#     raw_train_processes = np.empty((20, 20), dtype=np.float64)\n",
    "\n",
    "#     for k in range(20):\n",
    "#         # Simulation du processus Hawkes avec les paramètres de la simulation courante\n",
    "#         # Les résultats sont stockés dans la ligne k du tableau raw_train_processes\n",
    "#         _, T = hawkes_simulation(kernel='exp', \n",
    "#                                  baseline='const', \n",
    "#                                  params={\"mu\": mu[k], \"alpha\": alpha[k], \"beta\": beta[k]}, \n",
    "#                                  interval=[0, 20])\n",
    "\n",
    "#         # Redimensionnement de la variable T si nécessaire\n",
    "#         T = np.resize(T, (20,))\n",
    "#         # Stockage des résultats dans le tableau raw_train_processes\n",
    "#         raw_train_processes[k,:] = T\n",
    "\n",
    "#     return raw_train_processes\n",
    "\n",
    "# def test2():\n",
    "#     raw_train_processes = []\n",
    "#     for k in range(10):\n",
    "#         _, T = hawkes_simulation(kernel='exp', baseline='const', params={\"mu\": mu[k], \"alpha\": alpha[k], \"beta\": beta[k]}, interval=[0, 10])\n",
    "#         raw_train_processes.append(T)\n",
    "\n",
    "#     return raw_train_processes\n",
    "\n",
    "def test3():\n",
    "    # # Initialisation d'un tableau numpy vide pour stocker les processus Hawkes simulés (Pré-allocation de la mémoire)\n",
    "    raw_train_processes = np.zeros((20, 20), dtype=np.float64)\n",
    "\n",
    "    for k in range(20):\n",
    "        # Simulation du processus Hawkes avec les paramètres de la simulation courante\n",
    "        # Les résultats sont stockés dans la ligne k du tableau raw_train_processes\n",
    "        _, T = hawkes_simulation(kernel='exp', \n",
    "                                 baseline='const', \n",
    "                                 params={\"mu\": mu[k], \"alpha\": alpha[k], \"beta\": beta[k]}, \n",
    "                                 interval=[0, 20])\n",
    "\n",
    "        raw_train_processes[k,:] = np.asarray(T)[:20]\n",
    "\n",
    "    return raw_train_processes\n",
    "\n",
    "# Discrétiser les processus de Hawkes\n",
    "#discret_train_processes = discretise(raw_train_processes, step, horizon=horizon)\n",
    "\n",
    "#discret_train_processes\n",
    "#%timeit test1()\n",
    "#print(test1())\n",
    "%timeit test3()\n",
    "print(test3())"
   ]
  }
 ],
 "metadata": {
  "kernelspec": {
   "display_name": "Python 3",
   "language": "python",
   "name": "python3"
  },
  "language_info": {
   "codemirror_mode": {
    "name": "ipython",
    "version": 3
   },
   "file_extension": ".py",
   "mimetype": "text/x-python",
   "name": "python",
   "nbconvert_exporter": "python",
   "pygments_lexer": "ipython3",
   "version": "3.11.2"
  },
  "orig_nbformat": 4
 },
 "nbformat": 4,
 "nbformat_minor": 2
}
