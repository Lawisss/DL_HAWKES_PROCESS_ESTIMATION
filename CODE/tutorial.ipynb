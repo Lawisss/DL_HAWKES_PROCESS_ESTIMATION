{
 "cells": [
  {
   "attachments": {},
   "cell_type": "markdown",
   "metadata": {},
   "source": [
    "## VAE Hawkes Process Estimation - Tutorial"
   ]
  },
  {
   "cell_type": "code",
   "execution_count": 9,
   "metadata": {},
   "outputs": [
    {
     "name": "stdout",
     "output_type": "stream",
     "text": [
      "The autoreload extension is already loaded. To reload it, use:\n",
      "  %reload_ext autoreload\n"
     ]
    }
   ],
   "source": [
    "import os\n",
    "import sys\n",
    "\n",
    "import numpy as np\n",
    "import pandas as pd\n",
    "import Hawkes as hk\n",
    "from matplotlib import pyplot as plt\n",
    "\n",
    "from PREPROCESSING.hawkes import hawkes_simulations\n",
    "from PREPROCESSING.hyperparameters import hyper_params_simulation\n",
    "from PREPROCESSING.discretisation import discretise\n",
    "import VARIABLES.variables as var\n",
    "\n",
    "%load_ext autoreload\n",
    "%autoreload 2"
   ]
  },
  {
   "attachments": {},
   "cell_type": "markdown",
   "metadata": {},
   "source": [
    "### Preprocessing"
   ]
  },
  {
   "cell_type": "code",
   "execution_count": 88,
   "metadata": {},
   "outputs": [],
   "source": [
    "# Training dataset generation\n",
    "\n",
    "# Intensity Decay Parameter (β) = U(p = 1, q = 3)\n",
    "# Branching Ratio (η) = U(a = 0.05, b = 0.8)\n",
    "# Expected Activity (E) = 500\n",
    "# Time Horizon (T) = 100\n",
    "# Interval Length (∆) = 1\n",
    "# Training processes = 100_000\n",
    "\n",
    "# Hawkes process hyper-parameters generation\n",
    "train_params, train_alpha, train_beta, train_mu = hyper_params_simulation(filename=\"train_hawkes_hyperparams.csv\")\n",
    "# Hawkes processes simulations\n",
    "train_simulated_events_seqs = hawkes_simulations(train_mu, train_alpha, train_beta, filename='train_hawkes_simulations.csv')\n",
    "# Discrétiser les processus de Hawkes\n",
    "train_discret_simulated_events_seqs = discretise(train_simulated_events_seqs, filename='train_binned_hawkes_simulations.csv')"
   ]
  },
  {
   "cell_type": "code",
   "execution_count": null,
   "metadata": {},
   "outputs": [],
   "source": [
    "# Validating dataset generation\n",
    "\n",
    "# Intensity Decay Parameter (β) = U(p = 1, q = 3)\n",
    "# Branching Ratio (η) = U(a = 0.05, b = 0.8)\n",
    "# Expected Activity (E) = 500\n",
    "# Time Horizon (T) = 100\n",
    "# Interval Length (∆) = 1\n",
    "# Training processes = 30_000\n",
    "\n",
    "# Hawkes process hyper-parameters generation\n",
    "val_params, val_alpha, val_beta, val_mu = hyper_params_simulation(filename=\"val_hawkes_hyperparams.csv\")\n",
    "# Hawkes processes simulations\n",
    "val_simulated_events_seqs = hawkes_simulations(val_mu, val_alpha, val_beta, filename='val_hawkes_simulations.csv')\n",
    "# Discrétiser les processus de Hawkes\n",
    "val_discret_simulated_events_seqs = discretise(val_simulated_events_seqs, filename='val_binned_hawkes_simulations.csv')"
   ]
  },
  {
   "cell_type": "code",
   "execution_count": null,
   "metadata": {},
   "outputs": [],
   "source": [
    "# Testing dataset generation\n",
    "\n",
    "# Intensity Decay Parameter (β) = U(p = 1, q = 3)\n",
    "# Branching Ratio (η) = U(a = 0.05, b = 0.8)\n",
    "# Expected Activity (E) = 500\n",
    "# Time Horizon (T) = 100\n",
    "# Interval Length (∆) = 1\n",
    "# Testing processes = 20_000\n",
    "\n",
    "# Hawkes process hyper-parameters generation\n",
    "test_params, test_alpha, test_beta, test_mu = hyper_params_simulation(filename=\"test_hawkes_hyperparams.csv\")\n",
    "# Hawkes processes simulations\n",
    "test_simulated_events_seqs = hawkes_simulations(test_mu, test_alpha, test_beta, filename='test_hawkes_simulations.csv')\n",
    "# Discrétiser les processus de Hawkes\n",
    "test_discret_simulated_events_seqs = discretise(test_simulated_events_seqs, filename='test_binned_hawkes_simulations.csv')"
   ]
  },
  {
   "cell_type": "code",
   "execution_count": 10,
   "metadata": {},
   "outputs": [],
   "source": [
    "from UTILS.utils import write_csv\n",
    "import Hawkes as hk\n",
    "\n",
    "train_params, train_alpha, train_beta, train_mu = hyper_params_simulation(filename=\"train_hawkes_hyperparams.csv\")\n",
    "\n",
    "def hawkes_simulation(params={\"mu\": 0.1, \"alpha\": 0.5, \"beta\": 10.0}):\n",
    "    # Created a Hawkes process with the given kernel, baseline and parameters\n",
    "    hawkes_process = hk.simulator().set_kernel(var.KERNEL).set_baseline(var.BASELINE).set_parameter(params)\n",
    "    # Simulated a Hawkes process in the given time interval\n",
    "    T = hawkes_process.simulate([var.TIME_ITV_START, var.TIME_HORIZON])\n",
    "    \n",
    "    # Plotted the number of events and intensity over time (don't work with many iteration)\n",
    "    # hawkes_process.plot_N()\n",
    "    # hawkes_process.plot_l()\n",
    "    \n",
    "    return hawkes_process, T\n",
    "\n",
    "def hawkes_simulations(mu, alpha, beta, filename='hawkes_simulations.csv'):\n",
    "    # Initialize a filled with zeros array to store Hawkes processes (Pre-allocate memory)\n",
    "    simulated_events_seqs = np.zeros((var.PROCESS_NUM, var.TIME_HORIZON), dtype=np.float64)\n",
    "\n",
    "    for k in range(var.PROCESS_NUM):\n",
    "        # Simulate a Hawkes processes with the current simulation parameters\n",
    "        # The results are stored in the k-th row of the simulated_events_seqs array\n",
    "        _, T = hawkes_simulation(params={\"mu\": mu[k], \"alpha\": alpha[k], \"beta\": beta[k]})\n",
    "        \n",
    "        # Convert temporary list T to an array and store the results in simulated_events_seqs\n",
    "        simulated_events_seqs[k,:] = np.asarray(T)[:var.TIME_HORIZON]\n",
    "\n",
    "    # Created a DataFrame, name the columns, and generate csv file\n",
    "    df = pd.DataFrame(np.row_stack(simulated_events_seqs))\n",
    "    df.to_csv(f\"{var.FILEPATH}{filename}\", index=False)\n",
    "\n",
    "    return simulated_events_seqs\n",
    "\n",
    "def hawkes_simulations2(mu, alpha, beta, filename='hawkes_simulations.csv'):\n",
    "    # Initialize a filled with zeros array to store Hawkes processes (Pre-allocate memory)\n",
    "    simulated_events_seqs = np.zeros((var.PROCESS_NUM, var.TIME_HORIZON), dtype=np.float64)\n",
    "\n",
    "    for k in range(var.PROCESS_NUM):\n",
    "        # Simulate a Hawkes processes with the current simulation parameters\n",
    "        # The results are stored in the k-th row of the simulated_events_seqs array\n",
    "        _, T = hawkes_simulation(params={\"mu\": mu[k], \"alpha\": alpha[k], \"beta\": beta[k]})\n",
    "        \n",
    "        # Convert temporary list T to an array and store the results in simulated_events_seqs\n",
    "        simulated_events_seqs[k,:] = np.asarray(T)[:var.TIME_HORIZON]\n",
    "\n",
    "    # Convert the simulated_events_seqs array to a list of dictionaries\n",
    "    processes = [{\"seq\": seq} for seq in simulated_events_seqs]\n",
    "\n",
    "    # Write the data to a CSV file using the custom function\n",
    "    write_csv(processes, filepath=f\"{var.FILEPATH}{filename}\")\n",
    "\n",
    "    return simulated_events_seqs\n",
    "\n",
    "\n",
    "%timeit hawkes_simulations(train_alpha, train_beta, train_mu)\n",
    "%timeit hawkes_simulations2(train_alpha, train_beta, train_mu)"
   ]
  }
 ],
 "metadata": {
  "kernelspec": {
   "display_name": "Python 3",
   "language": "python",
   "name": "python3"
  },
  "language_info": {
   "codemirror_mode": {
    "name": "ipython",
    "version": 3
   },
   "file_extension": ".py",
   "mimetype": "text/x-python",
   "name": "python",
   "nbconvert_exporter": "python",
   "pygments_lexer": "ipython3",
   "version": "3.11.2"
  },
  "orig_nbformat": 4
 },
 "nbformat": 4,
 "nbformat_minor": 2
}
